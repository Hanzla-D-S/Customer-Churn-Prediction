{
 "cells": [
  {
   "cell_type": "code",
   "execution_count": 1,
   "metadata": {
    "_cell_guid": "b1076dfc-b9ad-4769-8c92-a6c4dae69d19",
    "_uuid": "8f2839f25d086af736a60e9eeb907d3b93b6e0e5",
    "execution": {
     "iopub.execute_input": "2025-01-09T08:12:17.831248Z",
     "iopub.status.busy": "2025-01-09T08:12:17.830981Z",
     "iopub.status.idle": "2025-01-09T08:12:17.838222Z",
     "shell.execute_reply": "2025-01-09T08:12:17.836826Z",
     "shell.execute_reply.started": "2025-01-09T08:12:17.831221Z"
    }
   },
   "outputs": [],
   "source": [
    "# This Python 3 environment comes with many helpful analytics libraries installed\n",
    "# It is defined by the kaggle/python Docker image: https://github.com/kaggle/docker-python\n",
    "# For example, here's several helpful packages to load\n",
    "\n",
    "import numpy as np # linear algebra\n",
    "import pandas as pd # data processing, CSV file I/O (e.g. pd.read_csv)\n",
    "\n",
    "# Input data files are available in the read-only \"../input/\" directory\n",
    "# For example, running this (by clicking run or pressing Shift+Enter) will list all files under the input directory\n",
    "\n",
    "import os\n",
    "for dirname, _, filenames in os.walk('/kaggle/input'):\n",
    "    for filename in filenames:\n",
    "        print(os.path.join(dirname, filename))\n",
    "\n",
    "# You can write up to 20GB to the current directory (/kaggle/working/) that gets preserved as output when you create a version using \"Save & Run All\" \n",
    "# You can also write temporary files to /kaggle/temp/, but they won't be saved outside of the current session"
   ]
  },
  {
   "cell_type": "code",
   "execution_count": 2,
   "metadata": {
    "execution": {
     "iopub.execute_input": "2025-01-09T08:12:37.767964Z",
     "iopub.status.busy": "2025-01-09T08:12:37.767463Z",
     "iopub.status.idle": "2025-01-09T08:12:37.819358Z",
     "shell.execute_reply": "2025-01-09T08:12:37.818283Z",
     "shell.execute_reply.started": "2025-01-09T08:12:37.767925Z"
    }
   },
   "outputs": [
    {
     "ename": "FileNotFoundError",
     "evalue": "[Errno 2] No such file or directory: '/kaggle/input/credit-card-customer-churn-prediction/Churn_Modelling.csv'",
     "output_type": "error",
     "traceback": [
      "\u001b[1;31m---------------------------------------------------------------------------\u001b[0m",
      "\u001b[1;31mFileNotFoundError\u001b[0m                         Traceback (most recent call last)",
      "Cell \u001b[1;32mIn[2], line 1\u001b[0m\n\u001b[1;32m----> 1\u001b[0m df \u001b[38;5;241m=\u001b[39m pd\u001b[38;5;241m.\u001b[39mread_csv(\u001b[38;5;124m'\u001b[39m\u001b[38;5;124m/kaggle/input/credit-card-customer-churn-prediction/Churn_Modelling.csv\u001b[39m\u001b[38;5;124m'\u001b[39m)\n",
      "File \u001b[1;32m~\\anaconda3\\Lib\\site-packages\\pandas\\io\\parsers\\readers.py:1026\u001b[0m, in \u001b[0;36mread_csv\u001b[1;34m(filepath_or_buffer, sep, delimiter, header, names, index_col, usecols, dtype, engine, converters, true_values, false_values, skipinitialspace, skiprows, skipfooter, nrows, na_values, keep_default_na, na_filter, verbose, skip_blank_lines, parse_dates, infer_datetime_format, keep_date_col, date_parser, date_format, dayfirst, cache_dates, iterator, chunksize, compression, thousands, decimal, lineterminator, quotechar, quoting, doublequote, escapechar, comment, encoding, encoding_errors, dialect, on_bad_lines, delim_whitespace, low_memory, memory_map, float_precision, storage_options, dtype_backend)\u001b[0m\n\u001b[0;32m   1013\u001b[0m kwds_defaults \u001b[38;5;241m=\u001b[39m _refine_defaults_read(\n\u001b[0;32m   1014\u001b[0m     dialect,\n\u001b[0;32m   1015\u001b[0m     delimiter,\n\u001b[1;32m   (...)\u001b[0m\n\u001b[0;32m   1022\u001b[0m     dtype_backend\u001b[38;5;241m=\u001b[39mdtype_backend,\n\u001b[0;32m   1023\u001b[0m )\n\u001b[0;32m   1024\u001b[0m kwds\u001b[38;5;241m.\u001b[39mupdate(kwds_defaults)\n\u001b[1;32m-> 1026\u001b[0m \u001b[38;5;28;01mreturn\u001b[39;00m _read(filepath_or_buffer, kwds)\n",
      "File \u001b[1;32m~\\anaconda3\\Lib\\site-packages\\pandas\\io\\parsers\\readers.py:620\u001b[0m, in \u001b[0;36m_read\u001b[1;34m(filepath_or_buffer, kwds)\u001b[0m\n\u001b[0;32m    617\u001b[0m _validate_names(kwds\u001b[38;5;241m.\u001b[39mget(\u001b[38;5;124m\"\u001b[39m\u001b[38;5;124mnames\u001b[39m\u001b[38;5;124m\"\u001b[39m, \u001b[38;5;28;01mNone\u001b[39;00m))\n\u001b[0;32m    619\u001b[0m \u001b[38;5;66;03m# Create the parser.\u001b[39;00m\n\u001b[1;32m--> 620\u001b[0m parser \u001b[38;5;241m=\u001b[39m TextFileReader(filepath_or_buffer, \u001b[38;5;241m*\u001b[39m\u001b[38;5;241m*\u001b[39mkwds)\n\u001b[0;32m    622\u001b[0m \u001b[38;5;28;01mif\u001b[39;00m chunksize \u001b[38;5;129;01mor\u001b[39;00m iterator:\n\u001b[0;32m    623\u001b[0m     \u001b[38;5;28;01mreturn\u001b[39;00m parser\n",
      "File \u001b[1;32m~\\anaconda3\\Lib\\site-packages\\pandas\\io\\parsers\\readers.py:1620\u001b[0m, in \u001b[0;36mTextFileReader.__init__\u001b[1;34m(self, f, engine, **kwds)\u001b[0m\n\u001b[0;32m   1617\u001b[0m     \u001b[38;5;28mself\u001b[39m\u001b[38;5;241m.\u001b[39moptions[\u001b[38;5;124m\"\u001b[39m\u001b[38;5;124mhas_index_names\u001b[39m\u001b[38;5;124m\"\u001b[39m] \u001b[38;5;241m=\u001b[39m kwds[\u001b[38;5;124m\"\u001b[39m\u001b[38;5;124mhas_index_names\u001b[39m\u001b[38;5;124m\"\u001b[39m]\n\u001b[0;32m   1619\u001b[0m \u001b[38;5;28mself\u001b[39m\u001b[38;5;241m.\u001b[39mhandles: IOHandles \u001b[38;5;241m|\u001b[39m \u001b[38;5;28;01mNone\u001b[39;00m \u001b[38;5;241m=\u001b[39m \u001b[38;5;28;01mNone\u001b[39;00m\n\u001b[1;32m-> 1620\u001b[0m \u001b[38;5;28mself\u001b[39m\u001b[38;5;241m.\u001b[39m_engine \u001b[38;5;241m=\u001b[39m \u001b[38;5;28mself\u001b[39m\u001b[38;5;241m.\u001b[39m_make_engine(f, \u001b[38;5;28mself\u001b[39m\u001b[38;5;241m.\u001b[39mengine)\n",
      "File \u001b[1;32m~\\anaconda3\\Lib\\site-packages\\pandas\\io\\parsers\\readers.py:1880\u001b[0m, in \u001b[0;36mTextFileReader._make_engine\u001b[1;34m(self, f, engine)\u001b[0m\n\u001b[0;32m   1878\u001b[0m     \u001b[38;5;28;01mif\u001b[39;00m \u001b[38;5;124m\"\u001b[39m\u001b[38;5;124mb\u001b[39m\u001b[38;5;124m\"\u001b[39m \u001b[38;5;129;01mnot\u001b[39;00m \u001b[38;5;129;01min\u001b[39;00m mode:\n\u001b[0;32m   1879\u001b[0m         mode \u001b[38;5;241m+\u001b[39m\u001b[38;5;241m=\u001b[39m \u001b[38;5;124m\"\u001b[39m\u001b[38;5;124mb\u001b[39m\u001b[38;5;124m\"\u001b[39m\n\u001b[1;32m-> 1880\u001b[0m \u001b[38;5;28mself\u001b[39m\u001b[38;5;241m.\u001b[39mhandles \u001b[38;5;241m=\u001b[39m get_handle(\n\u001b[0;32m   1881\u001b[0m     f,\n\u001b[0;32m   1882\u001b[0m     mode,\n\u001b[0;32m   1883\u001b[0m     encoding\u001b[38;5;241m=\u001b[39m\u001b[38;5;28mself\u001b[39m\u001b[38;5;241m.\u001b[39moptions\u001b[38;5;241m.\u001b[39mget(\u001b[38;5;124m\"\u001b[39m\u001b[38;5;124mencoding\u001b[39m\u001b[38;5;124m\"\u001b[39m, \u001b[38;5;28;01mNone\u001b[39;00m),\n\u001b[0;32m   1884\u001b[0m     compression\u001b[38;5;241m=\u001b[39m\u001b[38;5;28mself\u001b[39m\u001b[38;5;241m.\u001b[39moptions\u001b[38;5;241m.\u001b[39mget(\u001b[38;5;124m\"\u001b[39m\u001b[38;5;124mcompression\u001b[39m\u001b[38;5;124m\"\u001b[39m, \u001b[38;5;28;01mNone\u001b[39;00m),\n\u001b[0;32m   1885\u001b[0m     memory_map\u001b[38;5;241m=\u001b[39m\u001b[38;5;28mself\u001b[39m\u001b[38;5;241m.\u001b[39moptions\u001b[38;5;241m.\u001b[39mget(\u001b[38;5;124m\"\u001b[39m\u001b[38;5;124mmemory_map\u001b[39m\u001b[38;5;124m\"\u001b[39m, \u001b[38;5;28;01mFalse\u001b[39;00m),\n\u001b[0;32m   1886\u001b[0m     is_text\u001b[38;5;241m=\u001b[39mis_text,\n\u001b[0;32m   1887\u001b[0m     errors\u001b[38;5;241m=\u001b[39m\u001b[38;5;28mself\u001b[39m\u001b[38;5;241m.\u001b[39moptions\u001b[38;5;241m.\u001b[39mget(\u001b[38;5;124m\"\u001b[39m\u001b[38;5;124mencoding_errors\u001b[39m\u001b[38;5;124m\"\u001b[39m, \u001b[38;5;124m\"\u001b[39m\u001b[38;5;124mstrict\u001b[39m\u001b[38;5;124m\"\u001b[39m),\n\u001b[0;32m   1888\u001b[0m     storage_options\u001b[38;5;241m=\u001b[39m\u001b[38;5;28mself\u001b[39m\u001b[38;5;241m.\u001b[39moptions\u001b[38;5;241m.\u001b[39mget(\u001b[38;5;124m\"\u001b[39m\u001b[38;5;124mstorage_options\u001b[39m\u001b[38;5;124m\"\u001b[39m, \u001b[38;5;28;01mNone\u001b[39;00m),\n\u001b[0;32m   1889\u001b[0m )\n\u001b[0;32m   1890\u001b[0m \u001b[38;5;28;01massert\u001b[39;00m \u001b[38;5;28mself\u001b[39m\u001b[38;5;241m.\u001b[39mhandles \u001b[38;5;129;01mis\u001b[39;00m \u001b[38;5;129;01mnot\u001b[39;00m \u001b[38;5;28;01mNone\u001b[39;00m\n\u001b[0;32m   1891\u001b[0m f \u001b[38;5;241m=\u001b[39m \u001b[38;5;28mself\u001b[39m\u001b[38;5;241m.\u001b[39mhandles\u001b[38;5;241m.\u001b[39mhandle\n",
      "File \u001b[1;32m~\\anaconda3\\Lib\\site-packages\\pandas\\io\\common.py:873\u001b[0m, in \u001b[0;36mget_handle\u001b[1;34m(path_or_buf, mode, encoding, compression, memory_map, is_text, errors, storage_options)\u001b[0m\n\u001b[0;32m    868\u001b[0m \u001b[38;5;28;01melif\u001b[39;00m \u001b[38;5;28misinstance\u001b[39m(handle, \u001b[38;5;28mstr\u001b[39m):\n\u001b[0;32m    869\u001b[0m     \u001b[38;5;66;03m# Check whether the filename is to be opened in binary mode.\u001b[39;00m\n\u001b[0;32m    870\u001b[0m     \u001b[38;5;66;03m# Binary mode does not support 'encoding' and 'newline'.\u001b[39;00m\n\u001b[0;32m    871\u001b[0m     \u001b[38;5;28;01mif\u001b[39;00m ioargs\u001b[38;5;241m.\u001b[39mencoding \u001b[38;5;129;01mand\u001b[39;00m \u001b[38;5;124m\"\u001b[39m\u001b[38;5;124mb\u001b[39m\u001b[38;5;124m\"\u001b[39m \u001b[38;5;129;01mnot\u001b[39;00m \u001b[38;5;129;01min\u001b[39;00m ioargs\u001b[38;5;241m.\u001b[39mmode:\n\u001b[0;32m    872\u001b[0m         \u001b[38;5;66;03m# Encoding\u001b[39;00m\n\u001b[1;32m--> 873\u001b[0m         handle \u001b[38;5;241m=\u001b[39m \u001b[38;5;28mopen\u001b[39m(\n\u001b[0;32m    874\u001b[0m             handle,\n\u001b[0;32m    875\u001b[0m             ioargs\u001b[38;5;241m.\u001b[39mmode,\n\u001b[0;32m    876\u001b[0m             encoding\u001b[38;5;241m=\u001b[39mioargs\u001b[38;5;241m.\u001b[39mencoding,\n\u001b[0;32m    877\u001b[0m             errors\u001b[38;5;241m=\u001b[39merrors,\n\u001b[0;32m    878\u001b[0m             newline\u001b[38;5;241m=\u001b[39m\u001b[38;5;124m\"\u001b[39m\u001b[38;5;124m\"\u001b[39m,\n\u001b[0;32m    879\u001b[0m         )\n\u001b[0;32m    880\u001b[0m     \u001b[38;5;28;01melse\u001b[39;00m:\n\u001b[0;32m    881\u001b[0m         \u001b[38;5;66;03m# Binary mode\u001b[39;00m\n\u001b[0;32m    882\u001b[0m         handle \u001b[38;5;241m=\u001b[39m \u001b[38;5;28mopen\u001b[39m(handle, ioargs\u001b[38;5;241m.\u001b[39mmode)\n",
      "\u001b[1;31mFileNotFoundError\u001b[0m: [Errno 2] No such file or directory: '/kaggle/input/credit-card-customer-churn-prediction/Churn_Modelling.csv'"
     ]
    }
   ],
   "source": [
    "df = pd.read_csv('/kaggle/input/credit-card-customer-churn-prediction/Churn_Modelling.csv')"
   ]
  },
  {
   "cell_type": "code",
   "execution_count": 6,
   "metadata": {
    "execution": {
     "iopub.execute_input": "2025-01-09T08:15:10.058577Z",
     "iopub.status.busy": "2025-01-09T08:15:10.058118Z",
     "iopub.status.idle": "2025-01-09T08:15:10.075756Z",
     "shell.execute_reply": "2025-01-09T08:15:10.074181Z",
     "shell.execute_reply.started": "2025-01-09T08:15:10.058536Z"
    }
   },
   "outputs": [
    {
     "data": {
      "text/html": [
       "<div>\n",
       "<style scoped>\n",
       "    .dataframe tbody tr th:only-of-type {\n",
       "        vertical-align: middle;\n",
       "    }\n",
       "\n",
       "    .dataframe tbody tr th {\n",
       "        vertical-align: top;\n",
       "    }\n",
       "\n",
       "    .dataframe thead th {\n",
       "        text-align: right;\n",
       "    }\n",
       "</style>\n",
       "<table border=\"1\" class=\"dataframe\">\n",
       "  <thead>\n",
       "    <tr style=\"text-align: right;\">\n",
       "      <th></th>\n",
       "      <th>RowNumber</th>\n",
       "      <th>CustomerId</th>\n",
       "      <th>Surname</th>\n",
       "      <th>CreditScore</th>\n",
       "      <th>Geography</th>\n",
       "      <th>Gender</th>\n",
       "      <th>Age</th>\n",
       "      <th>Tenure</th>\n",
       "      <th>Balance</th>\n",
       "      <th>NumOfProducts</th>\n",
       "      <th>HasCrCard</th>\n",
       "      <th>IsActiveMember</th>\n",
       "      <th>EstimatedSalary</th>\n",
       "      <th>Exited</th>\n",
       "    </tr>\n",
       "  </thead>\n",
       "  <tbody>\n",
       "    <tr>\n",
       "      <th>0</th>\n",
       "      <td>1</td>\n",
       "      <td>15634602</td>\n",
       "      <td>Hargrave</td>\n",
       "      <td>619</td>\n",
       "      <td>France</td>\n",
       "      <td>Female</td>\n",
       "      <td>42</td>\n",
       "      <td>2</td>\n",
       "      <td>0.00</td>\n",
       "      <td>1</td>\n",
       "      <td>1</td>\n",
       "      <td>1</td>\n",
       "      <td>101348.88</td>\n",
       "      <td>1</td>\n",
       "    </tr>\n",
       "    <tr>\n",
       "      <th>1</th>\n",
       "      <td>2</td>\n",
       "      <td>15647311</td>\n",
       "      <td>Hill</td>\n",
       "      <td>608</td>\n",
       "      <td>Spain</td>\n",
       "      <td>Female</td>\n",
       "      <td>41</td>\n",
       "      <td>1</td>\n",
       "      <td>83807.86</td>\n",
       "      <td>1</td>\n",
       "      <td>0</td>\n",
       "      <td>1</td>\n",
       "      <td>112542.58</td>\n",
       "      <td>0</td>\n",
       "    </tr>\n",
       "    <tr>\n",
       "      <th>2</th>\n",
       "      <td>3</td>\n",
       "      <td>15619304</td>\n",
       "      <td>Onio</td>\n",
       "      <td>502</td>\n",
       "      <td>France</td>\n",
       "      <td>Female</td>\n",
       "      <td>42</td>\n",
       "      <td>8</td>\n",
       "      <td>159660.80</td>\n",
       "      <td>3</td>\n",
       "      <td>1</td>\n",
       "      <td>0</td>\n",
       "      <td>113931.57</td>\n",
       "      <td>1</td>\n",
       "    </tr>\n",
       "    <tr>\n",
       "      <th>3</th>\n",
       "      <td>4</td>\n",
       "      <td>15701354</td>\n",
       "      <td>Boni</td>\n",
       "      <td>699</td>\n",
       "      <td>France</td>\n",
       "      <td>Female</td>\n",
       "      <td>39</td>\n",
       "      <td>1</td>\n",
       "      <td>0.00</td>\n",
       "      <td>2</td>\n",
       "      <td>0</td>\n",
       "      <td>0</td>\n",
       "      <td>93826.63</td>\n",
       "      <td>0</td>\n",
       "    </tr>\n",
       "    <tr>\n",
       "      <th>4</th>\n",
       "      <td>5</td>\n",
       "      <td>15737888</td>\n",
       "      <td>Mitchell</td>\n",
       "      <td>850</td>\n",
       "      <td>Spain</td>\n",
       "      <td>Female</td>\n",
       "      <td>43</td>\n",
       "      <td>2</td>\n",
       "      <td>125510.82</td>\n",
       "      <td>1</td>\n",
       "      <td>1</td>\n",
       "      <td>1</td>\n",
       "      <td>79084.10</td>\n",
       "      <td>0</td>\n",
       "    </tr>\n",
       "  </tbody>\n",
       "</table>\n",
       "</div>"
      ],
      "text/plain": [
       "   RowNumber  CustomerId   Surname  CreditScore Geography  Gender  Age  \\\n",
       "0          1    15634602  Hargrave          619    France  Female   42   \n",
       "1          2    15647311      Hill          608     Spain  Female   41   \n",
       "2          3    15619304      Onio          502    France  Female   42   \n",
       "3          4    15701354      Boni          699    France  Female   39   \n",
       "4          5    15737888  Mitchell          850     Spain  Female   43   \n",
       "\n",
       "   Tenure    Balance  NumOfProducts  HasCrCard  IsActiveMember  \\\n",
       "0       2       0.00              1          1               1   \n",
       "1       1   83807.86              1          0               1   \n",
       "2       8  159660.80              3          1               0   \n",
       "3       1       0.00              2          0               0   \n",
       "4       2  125510.82              1          1               1   \n",
       "\n",
       "   EstimatedSalary  Exited  \n",
       "0        101348.88       1  \n",
       "1        112542.58       0  \n",
       "2        113931.57       1  \n",
       "3         93826.63       0  \n",
       "4         79084.10       0  "
      ]
     },
     "execution_count": 6,
     "metadata": {},
     "output_type": "execute_result"
    }
   ],
   "source": [
    "df.head()"
   ]
  },
  {
   "cell_type": "code",
   "execution_count": 7,
   "metadata": {
    "execution": {
     "iopub.execute_input": "2025-01-09T08:16:48.458220Z",
     "iopub.status.busy": "2025-01-09T08:16:48.457780Z",
     "iopub.status.idle": "2025-01-09T08:16:48.490090Z",
     "shell.execute_reply": "2025-01-09T08:16:48.488794Z",
     "shell.execute_reply.started": "2025-01-09T08:16:48.458189Z"
    }
   },
   "outputs": [
    {
     "name": "stdout",
     "output_type": "stream",
     "text": [
      "<class 'pandas.core.frame.DataFrame'>\n",
      "RangeIndex: 10000 entries, 0 to 9999\n",
      "Data columns (total 14 columns):\n",
      " #   Column           Non-Null Count  Dtype  \n",
      "---  ------           --------------  -----  \n",
      " 0   RowNumber        10000 non-null  int64  \n",
      " 1   CustomerId       10000 non-null  int64  \n",
      " 2   Surname          10000 non-null  object \n",
      " 3   CreditScore      10000 non-null  int64  \n",
      " 4   Geography        10000 non-null  object \n",
      " 5   Gender           10000 non-null  object \n",
      " 6   Age              10000 non-null  int64  \n",
      " 7   Tenure           10000 non-null  int64  \n",
      " 8   Balance          10000 non-null  float64\n",
      " 9   NumOfProducts    10000 non-null  int64  \n",
      " 10  HasCrCard        10000 non-null  int64  \n",
      " 11  IsActiveMember   10000 non-null  int64  \n",
      " 12  EstimatedSalary  10000 non-null  float64\n",
      " 13  Exited           10000 non-null  int64  \n",
      "dtypes: float64(2), int64(9), object(3)\n",
      "memory usage: 1.1+ MB\n"
     ]
    }
   ],
   "source": [
    "df.info()"
   ]
  },
  {
   "cell_type": "code",
   "execution_count": 8,
   "metadata": {
    "execution": {
     "iopub.execute_input": "2025-01-09T08:17:16.816203Z",
     "iopub.status.busy": "2025-01-09T08:17:16.815624Z",
     "iopub.status.idle": "2025-01-09T08:17:16.836006Z",
     "shell.execute_reply": "2025-01-09T08:17:16.834727Z",
     "shell.execute_reply.started": "2025-01-09T08:17:16.816154Z"
    }
   },
   "outputs": [
    {
     "data": {
      "text/plain": [
       "0"
      ]
     },
     "execution_count": 8,
     "metadata": {},
     "output_type": "execute_result"
    }
   ],
   "source": [
    "df.duplicated().sum()"
   ]
  },
  {
   "cell_type": "code",
   "execution_count": 9,
   "metadata": {
    "execution": {
     "iopub.execute_input": "2025-01-09T08:17:41.610379Z",
     "iopub.status.busy": "2025-01-09T08:17:41.609950Z",
     "iopub.status.idle": "2025-01-09T08:17:41.620796Z",
     "shell.execute_reply": "2025-01-09T08:17:41.619662Z",
     "shell.execute_reply.started": "2025-01-09T08:17:41.610342Z"
    }
   },
   "outputs": [
    {
     "data": {
      "text/plain": [
       "Exited\n",
       "0    7963\n",
       "1    2037\n",
       "Name: count, dtype: int64"
      ]
     },
     "execution_count": 9,
     "metadata": {},
     "output_type": "execute_result"
    }
   ],
   "source": [
    "df['Exited'].value_counts()"
   ]
  },
  {
   "cell_type": "code",
   "execution_count": 11,
   "metadata": {
    "execution": {
     "iopub.execute_input": "2025-01-09T08:18:36.352542Z",
     "iopub.status.busy": "2025-01-09T08:18:36.352120Z",
     "iopub.status.idle": "2025-01-09T08:18:36.362273Z",
     "shell.execute_reply": "2025-01-09T08:18:36.361185Z",
     "shell.execute_reply.started": "2025-01-09T08:18:36.352491Z"
    }
   },
   "outputs": [
    {
     "data": {
      "text/plain": [
       "Geography\n",
       "France     5014\n",
       "Germany    2509\n",
       "Spain      2477\n",
       "Name: count, dtype: int64"
      ]
     },
     "execution_count": 11,
     "metadata": {},
     "output_type": "execute_result"
    }
   ],
   "source": [
    "df['Geography'].value_counts()"
   ]
  },
  {
   "cell_type": "code",
   "execution_count": 12,
   "metadata": {
    "execution": {
     "iopub.execute_input": "2025-01-09T08:18:50.842145Z",
     "iopub.status.busy": "2025-01-09T08:18:50.841715Z",
     "iopub.status.idle": "2025-01-09T08:18:50.852246Z",
     "shell.execute_reply": "2025-01-09T08:18:50.850882Z",
     "shell.execute_reply.started": "2025-01-09T08:18:50.842109Z"
    }
   },
   "outputs": [
    {
     "data": {
      "text/plain": [
       "Gender\n",
       "Male      5457\n",
       "Female    4543\n",
       "Name: count, dtype: int64"
      ]
     },
     "execution_count": 12,
     "metadata": {},
     "output_type": "execute_result"
    }
   ],
   "source": [
    "df['Gender'].value_counts()"
   ]
  },
  {
   "cell_type": "code",
   "execution_count": 13,
   "metadata": {
    "execution": {
     "iopub.execute_input": "2025-01-09T08:19:53.341322Z",
     "iopub.status.busy": "2025-01-09T08:19:53.340873Z",
     "iopub.status.idle": "2025-01-09T08:19:53.351922Z",
     "shell.execute_reply": "2025-01-09T08:19:53.350795Z",
     "shell.execute_reply.started": "2025-01-09T08:19:53.341286Z"
    }
   },
   "outputs": [],
   "source": [
    "df.drop(columns=['RowNumber','CustomerId','Surname'],inplace=True)"
   ]
  },
  {
   "cell_type": "code",
   "execution_count": 15,
   "metadata": {
    "execution": {
     "iopub.execute_input": "2025-01-09T08:20:02.785271Z",
     "iopub.status.busy": "2025-01-09T08:20:02.784895Z",
     "iopub.status.idle": "2025-01-09T08:20:02.800216Z",
     "shell.execute_reply": "2025-01-09T08:20:02.799072Z",
     "shell.execute_reply.started": "2025-01-09T08:20:02.785243Z"
    }
   },
   "outputs": [
    {
     "data": {
      "text/html": [
       "<div>\n",
       "<style scoped>\n",
       "    .dataframe tbody tr th:only-of-type {\n",
       "        vertical-align: middle;\n",
       "    }\n",
       "\n",
       "    .dataframe tbody tr th {\n",
       "        vertical-align: top;\n",
       "    }\n",
       "\n",
       "    .dataframe thead th {\n",
       "        text-align: right;\n",
       "    }\n",
       "</style>\n",
       "<table border=\"1\" class=\"dataframe\">\n",
       "  <thead>\n",
       "    <tr style=\"text-align: right;\">\n",
       "      <th></th>\n",
       "      <th>CreditScore</th>\n",
       "      <th>Geography</th>\n",
       "      <th>Gender</th>\n",
       "      <th>Age</th>\n",
       "      <th>Tenure</th>\n",
       "      <th>Balance</th>\n",
       "      <th>NumOfProducts</th>\n",
       "      <th>HasCrCard</th>\n",
       "      <th>IsActiveMember</th>\n",
       "      <th>EstimatedSalary</th>\n",
       "      <th>Exited</th>\n",
       "    </tr>\n",
       "  </thead>\n",
       "  <tbody>\n",
       "    <tr>\n",
       "      <th>0</th>\n",
       "      <td>619</td>\n",
       "      <td>France</td>\n",
       "      <td>Female</td>\n",
       "      <td>42</td>\n",
       "      <td>2</td>\n",
       "      <td>0.00</td>\n",
       "      <td>1</td>\n",
       "      <td>1</td>\n",
       "      <td>1</td>\n",
       "      <td>101348.88</td>\n",
       "      <td>1</td>\n",
       "    </tr>\n",
       "    <tr>\n",
       "      <th>1</th>\n",
       "      <td>608</td>\n",
       "      <td>Spain</td>\n",
       "      <td>Female</td>\n",
       "      <td>41</td>\n",
       "      <td>1</td>\n",
       "      <td>83807.86</td>\n",
       "      <td>1</td>\n",
       "      <td>0</td>\n",
       "      <td>1</td>\n",
       "      <td>112542.58</td>\n",
       "      <td>0</td>\n",
       "    </tr>\n",
       "    <tr>\n",
       "      <th>2</th>\n",
       "      <td>502</td>\n",
       "      <td>France</td>\n",
       "      <td>Female</td>\n",
       "      <td>42</td>\n",
       "      <td>8</td>\n",
       "      <td>159660.80</td>\n",
       "      <td>3</td>\n",
       "      <td>1</td>\n",
       "      <td>0</td>\n",
       "      <td>113931.57</td>\n",
       "      <td>1</td>\n",
       "    </tr>\n",
       "    <tr>\n",
       "      <th>3</th>\n",
       "      <td>699</td>\n",
       "      <td>France</td>\n",
       "      <td>Female</td>\n",
       "      <td>39</td>\n",
       "      <td>1</td>\n",
       "      <td>0.00</td>\n",
       "      <td>2</td>\n",
       "      <td>0</td>\n",
       "      <td>0</td>\n",
       "      <td>93826.63</td>\n",
       "      <td>0</td>\n",
       "    </tr>\n",
       "    <tr>\n",
       "      <th>4</th>\n",
       "      <td>850</td>\n",
       "      <td>Spain</td>\n",
       "      <td>Female</td>\n",
       "      <td>43</td>\n",
       "      <td>2</td>\n",
       "      <td>125510.82</td>\n",
       "      <td>1</td>\n",
       "      <td>1</td>\n",
       "      <td>1</td>\n",
       "      <td>79084.10</td>\n",
       "      <td>0</td>\n",
       "    </tr>\n",
       "  </tbody>\n",
       "</table>\n",
       "</div>"
      ],
      "text/plain": [
       "   CreditScore Geography  Gender  Age  Tenure    Balance  NumOfProducts  \\\n",
       "0          619    France  Female   42       2       0.00              1   \n",
       "1          608     Spain  Female   41       1   83807.86              1   \n",
       "2          502    France  Female   42       8  159660.80              3   \n",
       "3          699    France  Female   39       1       0.00              2   \n",
       "4          850     Spain  Female   43       2  125510.82              1   \n",
       "\n",
       "   HasCrCard  IsActiveMember  EstimatedSalary  Exited  \n",
       "0          1               1        101348.88       1  \n",
       "1          0               1        112542.58       0  \n",
       "2          1               0        113931.57       1  \n",
       "3          0               0         93826.63       0  \n",
       "4          1               1         79084.10       0  "
      ]
     },
     "execution_count": 15,
     "metadata": {},
     "output_type": "execute_result"
    }
   ],
   "source": [
    "df.head()"
   ]
  },
  {
   "cell_type": "code",
   "execution_count": 18,
   "metadata": {
    "execution": {
     "iopub.execute_input": "2025-01-09T08:26:56.825120Z",
     "iopub.status.busy": "2025-01-09T08:26:56.824462Z",
     "iopub.status.idle": "2025-01-09T08:26:56.842694Z",
     "shell.execute_reply": "2025-01-09T08:26:56.841350Z",
     "shell.execute_reply.started": "2025-01-09T08:26:56.825063Z"
    }
   },
   "outputs": [],
   "source": [
    "# One Hot Encoding On Categorical Columns\n",
    "df = pd.get_dummies(df,columns=['Geography','Gender'],drop_first=True)"
   ]
  },
  {
   "cell_type": "code",
   "execution_count": 21,
   "metadata": {
    "execution": {
     "iopub.execute_input": "2025-01-09T08:27:11.379761Z",
     "iopub.status.busy": "2025-01-09T08:27:11.379221Z",
     "iopub.status.idle": "2025-01-09T08:27:11.396278Z",
     "shell.execute_reply": "2025-01-09T08:27:11.395171Z",
     "shell.execute_reply.started": "2025-01-09T08:27:11.379714Z"
    }
   },
   "outputs": [
    {
     "data": {
      "text/html": [
       "<div>\n",
       "<style scoped>\n",
       "    .dataframe tbody tr th:only-of-type {\n",
       "        vertical-align: middle;\n",
       "    }\n",
       "\n",
       "    .dataframe tbody tr th {\n",
       "        vertical-align: top;\n",
       "    }\n",
       "\n",
       "    .dataframe thead th {\n",
       "        text-align: right;\n",
       "    }\n",
       "</style>\n",
       "<table border=\"1\" class=\"dataframe\">\n",
       "  <thead>\n",
       "    <tr style=\"text-align: right;\">\n",
       "      <th></th>\n",
       "      <th>CreditScore</th>\n",
       "      <th>Age</th>\n",
       "      <th>Tenure</th>\n",
       "      <th>Balance</th>\n",
       "      <th>NumOfProducts</th>\n",
       "      <th>HasCrCard</th>\n",
       "      <th>IsActiveMember</th>\n",
       "      <th>EstimatedSalary</th>\n",
       "      <th>Exited</th>\n",
       "      <th>Geography_Germany</th>\n",
       "      <th>Geography_Spain</th>\n",
       "      <th>Gender_Male</th>\n",
       "    </tr>\n",
       "  </thead>\n",
       "  <tbody>\n",
       "    <tr>\n",
       "      <th>0</th>\n",
       "      <td>619</td>\n",
       "      <td>42</td>\n",
       "      <td>2</td>\n",
       "      <td>0.00</td>\n",
       "      <td>1</td>\n",
       "      <td>1</td>\n",
       "      <td>1</td>\n",
       "      <td>101348.88</td>\n",
       "      <td>1</td>\n",
       "      <td>False</td>\n",
       "      <td>False</td>\n",
       "      <td>False</td>\n",
       "    </tr>\n",
       "    <tr>\n",
       "      <th>1</th>\n",
       "      <td>608</td>\n",
       "      <td>41</td>\n",
       "      <td>1</td>\n",
       "      <td>83807.86</td>\n",
       "      <td>1</td>\n",
       "      <td>0</td>\n",
       "      <td>1</td>\n",
       "      <td>112542.58</td>\n",
       "      <td>0</td>\n",
       "      <td>False</td>\n",
       "      <td>True</td>\n",
       "      <td>False</td>\n",
       "    </tr>\n",
       "    <tr>\n",
       "      <th>2</th>\n",
       "      <td>502</td>\n",
       "      <td>42</td>\n",
       "      <td>8</td>\n",
       "      <td>159660.80</td>\n",
       "      <td>3</td>\n",
       "      <td>1</td>\n",
       "      <td>0</td>\n",
       "      <td>113931.57</td>\n",
       "      <td>1</td>\n",
       "      <td>False</td>\n",
       "      <td>False</td>\n",
       "      <td>False</td>\n",
       "    </tr>\n",
       "    <tr>\n",
       "      <th>3</th>\n",
       "      <td>699</td>\n",
       "      <td>39</td>\n",
       "      <td>1</td>\n",
       "      <td>0.00</td>\n",
       "      <td>2</td>\n",
       "      <td>0</td>\n",
       "      <td>0</td>\n",
       "      <td>93826.63</td>\n",
       "      <td>0</td>\n",
       "      <td>False</td>\n",
       "      <td>False</td>\n",
       "      <td>False</td>\n",
       "    </tr>\n",
       "    <tr>\n",
       "      <th>4</th>\n",
       "      <td>850</td>\n",
       "      <td>43</td>\n",
       "      <td>2</td>\n",
       "      <td>125510.82</td>\n",
       "      <td>1</td>\n",
       "      <td>1</td>\n",
       "      <td>1</td>\n",
       "      <td>79084.10</td>\n",
       "      <td>0</td>\n",
       "      <td>False</td>\n",
       "      <td>True</td>\n",
       "      <td>False</td>\n",
       "    </tr>\n",
       "  </tbody>\n",
       "</table>\n",
       "</div>"
      ],
      "text/plain": [
       "   CreditScore  Age  Tenure    Balance  NumOfProducts  HasCrCard  \\\n",
       "0          619   42       2       0.00              1          1   \n",
       "1          608   41       1   83807.86              1          0   \n",
       "2          502   42       8  159660.80              3          1   \n",
       "3          699   39       1       0.00              2          0   \n",
       "4          850   43       2  125510.82              1          1   \n",
       "\n",
       "   IsActiveMember  EstimatedSalary  Exited  Geography_Germany  \\\n",
       "0               1        101348.88       1              False   \n",
       "1               1        112542.58       0              False   \n",
       "2               0        113931.57       1              False   \n",
       "3               0         93826.63       0              False   \n",
       "4               1         79084.10       0              False   \n",
       "\n",
       "   Geography_Spain  Gender_Male  \n",
       "0            False        False  \n",
       "1             True        False  \n",
       "2            False        False  \n",
       "3            False        False  \n",
       "4             True        False  "
      ]
     },
     "execution_count": 21,
     "metadata": {},
     "output_type": "execute_result"
    }
   ],
   "source": [
    "df.head()"
   ]
  },
  {
   "cell_type": "code",
   "execution_count": 22,
   "metadata": {
    "execution": {
     "iopub.execute_input": "2025-01-09T08:29:33.042005Z",
     "iopub.status.busy": "2025-01-09T08:29:33.041578Z",
     "iopub.status.idle": "2025-01-09T08:29:33.684766Z",
     "shell.execute_reply": "2025-01-09T08:29:33.683760Z",
     "shell.execute_reply.started": "2025-01-09T08:29:33.041975Z"
    }
   },
   "outputs": [],
   "source": [
    "from sklearn.model_selection import train_test_split\n",
    "X = df.drop(columns=['Exited'])\n",
    "Y = df['Exited']\n",
    "X_train,X_test,Y_train,Y_test = train_test_split(X,Y,test_size=0.2,random_state=1)"
   ]
  },
  {
   "cell_type": "code",
   "execution_count": 27,
   "metadata": {
    "execution": {
     "iopub.execute_input": "2025-01-09T08:31:02.192393Z",
     "iopub.status.busy": "2025-01-09T08:31:02.191974Z",
     "iopub.status.idle": "2025-01-09T08:31:02.212869Z",
     "shell.execute_reply": "2025-01-09T08:31:02.211659Z",
     "shell.execute_reply.started": "2025-01-09T08:31:02.192362Z"
    }
   },
   "outputs": [],
   "source": [
    "from sklearn.preprocessing import StandardScaler\n",
    "scaler = StandardScaler()\n",
    "X_train_scaled = scaler.fit_transform(X_train)\n",
    "X_test_scaled = scaler.transform(X_test)"
   ]
  },
  {
   "cell_type": "code",
   "execution_count": 31,
   "metadata": {
    "execution": {
     "iopub.execute_input": "2025-01-09T08:33:09.399406Z",
     "iopub.status.busy": "2025-01-09T08:33:09.398987Z",
     "iopub.status.idle": "2025-01-09T08:33:19.910255Z",
     "shell.execute_reply": "2025-01-09T08:33:19.909055Z",
     "shell.execute_reply.started": "2025-01-09T08:33:09.399370Z"
    }
   },
   "outputs": [],
   "source": [
    "import tensorflow\n",
    "from tensorflow import keras\n",
    "from tensorflow.keras import Sequential\n",
    "from tensorflow.keras.layers import Dense"
   ]
  },
  {
   "cell_type": "code",
   "execution_count": 58,
   "metadata": {
    "execution": {
     "iopub.execute_input": "2025-01-09T08:53:05.274847Z",
     "iopub.status.busy": "2025-01-09T08:53:05.274338Z",
     "iopub.status.idle": "2025-01-09T08:53:05.321211Z",
     "shell.execute_reply": "2025-01-09T08:53:05.320122Z",
     "shell.execute_reply.started": "2025-01-09T08:53:05.274807Z"
    }
   },
   "outputs": [
    {
     "name": "stderr",
     "output_type": "stream",
     "text": [
      "/usr/local/lib/python3.10/dist-packages/keras/src/layers/core/dense.py:87: UserWarning: Do not pass an `input_shape`/`input_dim` argument to a layer. When using Sequential models, prefer using an `Input(shape)` object as the first layer in the model instead.\n",
      "  super().__init__(activity_regularizer=activity_regularizer, **kwargs)\n"
     ]
    }
   ],
   "source": [
    "# So we will have 1 input layer,1 hidden layer and 1 output layer.\n",
    "model = Sequential()\n",
    "# this is our hidden layer with 11 nodes and connected with 11 inputs means columns\n",
    "model.add(Dense(11,activation='relu',input_dim=11))\n",
    "model.add(Dense(11,activation='relu'))\n",
    "# this is our output layer with one node \n",
    "model.add(Dense(1,activation='sigmoid'))\n"
   ]
  },
  {
   "cell_type": "code",
   "execution_count": 59,
   "metadata": {
    "execution": {
     "iopub.execute_input": "2025-01-09T08:53:05.517037Z",
     "iopub.status.busy": "2025-01-09T08:53:05.516625Z",
     "iopub.status.idle": "2025-01-09T08:53:05.541125Z",
     "shell.execute_reply": "2025-01-09T08:53:05.539671Z",
     "shell.execute_reply.started": "2025-01-09T08:53:05.517010Z"
    }
   },
   "outputs": [
    {
     "data": {
      "text/html": [
       "<pre style=\"white-space:pre;overflow-x:auto;line-height:normal;font-family:Menlo,'DejaVu Sans Mono',consolas,'Courier New',monospace\"><span style=\"font-weight: bold\">Model: \"sequential_3\"</span>\n",
       "</pre>\n"
      ],
      "text/plain": [
       "\u001b[1mModel: \"sequential_3\"\u001b[0m\n"
      ]
     },
     "metadata": {},
     "output_type": "display_data"
    },
    {
     "data": {
      "text/html": [
       "<pre style=\"white-space:pre;overflow-x:auto;line-height:normal;font-family:Menlo,'DejaVu Sans Mono',consolas,'Courier New',monospace\">┏━━━━━━━━━━━━━━━━━━━━━━━━━━━━━━━━━━━━━━┳━━━━━━━━━━━━━━━━━━━━━━━━━━━━━┳━━━━━━━━━━━━━━━━━┓\n",
       "┃<span style=\"font-weight: bold\"> Layer (type)                         </span>┃<span style=\"font-weight: bold\"> Output Shape                </span>┃<span style=\"font-weight: bold\">         Param # </span>┃\n",
       "┡━━━━━━━━━━━━━━━━━━━━━━━━━━━━━━━━━━━━━━╇━━━━━━━━━━━━━━━━━━━━━━━━━━━━━╇━━━━━━━━━━━━━━━━━┩\n",
       "│ dense_8 (<span style=\"color: #0087ff; text-decoration-color: #0087ff\">Dense</span>)                      │ (<span style=\"color: #00d7ff; text-decoration-color: #00d7ff\">None</span>, <span style=\"color: #00af00; text-decoration-color: #00af00\">11</span>)                  │             <span style=\"color: #00af00; text-decoration-color: #00af00\">132</span> │\n",
       "├──────────────────────────────────────┼─────────────────────────────┼─────────────────┤\n",
       "│ dense_9 (<span style=\"color: #0087ff; text-decoration-color: #0087ff\">Dense</span>)                      │ (<span style=\"color: #00d7ff; text-decoration-color: #00d7ff\">None</span>, <span style=\"color: #00af00; text-decoration-color: #00af00\">11</span>)                  │             <span style=\"color: #00af00; text-decoration-color: #00af00\">132</span> │\n",
       "├──────────────────────────────────────┼─────────────────────────────┼─────────────────┤\n",
       "│ dense_10 (<span style=\"color: #0087ff; text-decoration-color: #0087ff\">Dense</span>)                     │ (<span style=\"color: #00d7ff; text-decoration-color: #00d7ff\">None</span>, <span style=\"color: #00af00; text-decoration-color: #00af00\">1</span>)                   │              <span style=\"color: #00af00; text-decoration-color: #00af00\">12</span> │\n",
       "└──────────────────────────────────────┴─────────────────────────────┴─────────────────┘\n",
       "</pre>\n"
      ],
      "text/plain": [
       "┏━━━━━━━━━━━━━━━━━━━━━━━━━━━━━━━━━━━━━━┳━━━━━━━━━━━━━━━━━━━━━━━━━━━━━┳━━━━━━━━━━━━━━━━━┓\n",
       "┃\u001b[1m \u001b[0m\u001b[1mLayer (type)                        \u001b[0m\u001b[1m \u001b[0m┃\u001b[1m \u001b[0m\u001b[1mOutput Shape               \u001b[0m\u001b[1m \u001b[0m┃\u001b[1m \u001b[0m\u001b[1m        Param #\u001b[0m\u001b[1m \u001b[0m┃\n",
       "┡━━━━━━━━━━━━━━━━━━━━━━━━━━━━━━━━━━━━━━╇━━━━━━━━━━━━━━━━━━━━━━━━━━━━━╇━━━━━━━━━━━━━━━━━┩\n",
       "│ dense_8 (\u001b[38;5;33mDense\u001b[0m)                      │ (\u001b[38;5;45mNone\u001b[0m, \u001b[38;5;34m11\u001b[0m)                  │             \u001b[38;5;34m132\u001b[0m │\n",
       "├──────────────────────────────────────┼─────────────────────────────┼─────────────────┤\n",
       "│ dense_9 (\u001b[38;5;33mDense\u001b[0m)                      │ (\u001b[38;5;45mNone\u001b[0m, \u001b[38;5;34m11\u001b[0m)                  │             \u001b[38;5;34m132\u001b[0m │\n",
       "├──────────────────────────────────────┼─────────────────────────────┼─────────────────┤\n",
       "│ dense_10 (\u001b[38;5;33mDense\u001b[0m)                     │ (\u001b[38;5;45mNone\u001b[0m, \u001b[38;5;34m1\u001b[0m)                   │              \u001b[38;5;34m12\u001b[0m │\n",
       "└──────────────────────────────────────┴─────────────────────────────┴─────────────────┘\n"
      ]
     },
     "metadata": {},
     "output_type": "display_data"
    },
    {
     "data": {
      "text/html": [
       "<pre style=\"white-space:pre;overflow-x:auto;line-height:normal;font-family:Menlo,'DejaVu Sans Mono',consolas,'Courier New',monospace\"><span style=\"font-weight: bold\"> Total params: </span><span style=\"color: #00af00; text-decoration-color: #00af00\">276</span> (1.08 KB)\n",
       "</pre>\n"
      ],
      "text/plain": [
       "\u001b[1m Total params: \u001b[0m\u001b[38;5;34m276\u001b[0m (1.08 KB)\n"
      ]
     },
     "metadata": {},
     "output_type": "display_data"
    },
    {
     "data": {
      "text/html": [
       "<pre style=\"white-space:pre;overflow-x:auto;line-height:normal;font-family:Menlo,'DejaVu Sans Mono',consolas,'Courier New',monospace\"><span style=\"font-weight: bold\"> Trainable params: </span><span style=\"color: #00af00; text-decoration-color: #00af00\">276</span> (1.08 KB)\n",
       "</pre>\n"
      ],
      "text/plain": [
       "\u001b[1m Trainable params: \u001b[0m\u001b[38;5;34m276\u001b[0m (1.08 KB)\n"
      ]
     },
     "metadata": {},
     "output_type": "display_data"
    },
    {
     "data": {
      "text/html": [
       "<pre style=\"white-space:pre;overflow-x:auto;line-height:normal;font-family:Menlo,'DejaVu Sans Mono',consolas,'Courier New',monospace\"><span style=\"font-weight: bold\"> Non-trainable params: </span><span style=\"color: #00af00; text-decoration-color: #00af00\">0</span> (0.00 B)\n",
       "</pre>\n"
      ],
      "text/plain": [
       "\u001b[1m Non-trainable params: \u001b[0m\u001b[38;5;34m0\u001b[0m (0.00 B)\n"
      ]
     },
     "metadata": {},
     "output_type": "display_data"
    }
   ],
   "source": [
    "model.summary()"
   ]
  },
  {
   "cell_type": "code",
   "execution_count": 60,
   "metadata": {
    "execution": {
     "iopub.execute_input": "2025-01-09T08:53:10.522655Z",
     "iopub.status.busy": "2025-01-09T08:53:10.522197Z",
     "iopub.status.idle": "2025-01-09T08:53:10.534240Z",
     "shell.execute_reply": "2025-01-09T08:53:10.532879Z",
     "shell.execute_reply.started": "2025-01-09T08:53:10.522618Z"
    }
   },
   "outputs": [],
   "source": [
    "# Compile the model\n",
    "model.compile(loss='binary_crossentropy',optimizer='Adam',metrics=['accuracy'])"
   ]
  },
  {
   "cell_type": "code",
   "execution_count": 61,
   "metadata": {
    "execution": {
     "iopub.execute_input": "2025-01-09T08:53:25.423307Z",
     "iopub.status.busy": "2025-01-09T08:53:25.422781Z",
     "iopub.status.idle": "2025-01-09T08:54:05.432441Z",
     "shell.execute_reply": "2025-01-09T08:54:05.431276Z",
     "shell.execute_reply.started": "2025-01-09T08:53:25.423254Z"
    }
   },
   "outputs": [
    {
     "name": "stdout",
     "output_type": "stream",
     "text": [
      "Epoch 1/100\n",
      "\u001b[1m200/200\u001b[0m \u001b[32m━━━━━━━━━━━━━━━━━━━━\u001b[0m\u001b[37m\u001b[0m \u001b[1m2s\u001b[0m 3ms/step - accuracy: 0.7325 - loss: 0.5980 - val_accuracy: 0.7975 - val_loss: 0.4809\n",
      "Epoch 2/100\n",
      "\u001b[1m200/200\u001b[0m \u001b[32m━━━━━━━━━━━━━━━━━━━━\u001b[0m\u001b[37m\u001b[0m \u001b[1m0s\u001b[0m 2ms/step - accuracy: 0.7992 - loss: 0.4669 - val_accuracy: 0.8044 - val_loss: 0.4454\n",
      "Epoch 3/100\n",
      "\u001b[1m200/200\u001b[0m \u001b[32m━━━━━━━━━━━━━━━━━━━━\u001b[0m\u001b[37m\u001b[0m \u001b[1m0s\u001b[0m 2ms/step - accuracy: 0.8050 - loss: 0.4328 - val_accuracy: 0.8025 - val_loss: 0.4289\n",
      "Epoch 4/100\n",
      "\u001b[1m200/200\u001b[0m \u001b[32m━━━━━━━━━━━━━━━━━━━━\u001b[0m\u001b[37m\u001b[0m \u001b[1m0s\u001b[0m 2ms/step - accuracy: 0.8192 - loss: 0.4185 - val_accuracy: 0.8175 - val_loss: 0.4129\n",
      "Epoch 5/100\n",
      "\u001b[1m200/200\u001b[0m \u001b[32m━━━━━━━━━━━━━━━━━━━━\u001b[0m\u001b[37m\u001b[0m \u001b[1m0s\u001b[0m 2ms/step - accuracy: 0.8331 - loss: 0.3978 - val_accuracy: 0.8306 - val_loss: 0.3962\n",
      "Epoch 6/100\n",
      "\u001b[1m200/200\u001b[0m \u001b[32m━━━━━━━━━━━━━━━━━━━━\u001b[0m\u001b[37m\u001b[0m \u001b[1m0s\u001b[0m 2ms/step - accuracy: 0.8400 - loss: 0.3909 - val_accuracy: 0.8375 - val_loss: 0.3833\n",
      "Epoch 7/100\n",
      "\u001b[1m200/200\u001b[0m \u001b[32m━━━━━━━━━━━━━━━━━━━━\u001b[0m\u001b[37m\u001b[0m \u001b[1m0s\u001b[0m 2ms/step - accuracy: 0.8463 - loss: 0.3769 - val_accuracy: 0.8456 - val_loss: 0.3711\n",
      "Epoch 8/100\n",
      "\u001b[1m200/200\u001b[0m \u001b[32m━━━━━━━━━━━━━━━━━━━━\u001b[0m\u001b[37m\u001b[0m \u001b[1m0s\u001b[0m 2ms/step - accuracy: 0.8485 - loss: 0.3757 - val_accuracy: 0.8450 - val_loss: 0.3654\n",
      "Epoch 9/100\n",
      "\u001b[1m200/200\u001b[0m \u001b[32m━━━━━━━━━━━━━━━━━━━━\u001b[0m\u001b[37m\u001b[0m \u001b[1m0s\u001b[0m 2ms/step - accuracy: 0.8548 - loss: 0.3496 - val_accuracy: 0.8425 - val_loss: 0.3598\n",
      "Epoch 10/100\n",
      "\u001b[1m200/200\u001b[0m \u001b[32m━━━━━━━━━━━━━━━━━━━━\u001b[0m\u001b[37m\u001b[0m \u001b[1m0s\u001b[0m 2ms/step - accuracy: 0.8563 - loss: 0.3499 - val_accuracy: 0.8481 - val_loss: 0.3554\n",
      "Epoch 11/100\n",
      "\u001b[1m200/200\u001b[0m \u001b[32m━━━━━━━━━━━━━━━━━━━━\u001b[0m\u001b[37m\u001b[0m \u001b[1m0s\u001b[0m 2ms/step - accuracy: 0.8554 - loss: 0.3563 - val_accuracy: 0.8425 - val_loss: 0.3572\n",
      "Epoch 12/100\n",
      "\u001b[1m200/200\u001b[0m \u001b[32m━━━━━━━━━━━━━━━━━━━━\u001b[0m\u001b[37m\u001b[0m \u001b[1m0s\u001b[0m 2ms/step - accuracy: 0.8647 - loss: 0.3289 - val_accuracy: 0.8469 - val_loss: 0.3544\n",
      "Epoch 13/100\n",
      "\u001b[1m200/200\u001b[0m \u001b[32m━━━━━━━━━━━━━━━━━━━━\u001b[0m\u001b[37m\u001b[0m \u001b[1m0s\u001b[0m 2ms/step - accuracy: 0.8592 - loss: 0.3483 - val_accuracy: 0.8450 - val_loss: 0.3583\n",
      "Epoch 14/100\n",
      "\u001b[1m200/200\u001b[0m \u001b[32m━━━━━━━━━━━━━━━━━━━━\u001b[0m\u001b[37m\u001b[0m \u001b[1m0s\u001b[0m 2ms/step - accuracy: 0.8558 - loss: 0.3494 - val_accuracy: 0.8481 - val_loss: 0.3538\n",
      "Epoch 15/100\n",
      "\u001b[1m200/200\u001b[0m \u001b[32m━━━━━━━━━━━━━━━━━━━━\u001b[0m\u001b[37m\u001b[0m \u001b[1m0s\u001b[0m 2ms/step - accuracy: 0.8688 - loss: 0.3402 - val_accuracy: 0.8431 - val_loss: 0.3588\n",
      "Epoch 16/100\n",
      "\u001b[1m200/200\u001b[0m \u001b[32m━━━━━━━━━━━━━━━━━━━━\u001b[0m\u001b[37m\u001b[0m \u001b[1m0s\u001b[0m 2ms/step - accuracy: 0.8675 - loss: 0.3378 - val_accuracy: 0.8475 - val_loss: 0.3545\n",
      "Epoch 17/100\n",
      "\u001b[1m200/200\u001b[0m \u001b[32m━━━━━━━━━━━━━━━━━━━━\u001b[0m\u001b[37m\u001b[0m \u001b[1m0s\u001b[0m 2ms/step - accuracy: 0.8652 - loss: 0.3451 - val_accuracy: 0.8487 - val_loss: 0.3534\n",
      "Epoch 18/100\n",
      "\u001b[1m200/200\u001b[0m \u001b[32m━━━━━━━━━━━━━━━━━━━━\u001b[0m\u001b[37m\u001b[0m \u001b[1m0s\u001b[0m 2ms/step - accuracy: 0.8646 - loss: 0.3400 - val_accuracy: 0.8475 - val_loss: 0.3548\n",
      "Epoch 19/100\n",
      "\u001b[1m200/200\u001b[0m \u001b[32m━━━━━━━━━━━━━━━━━━━━\u001b[0m\u001b[37m\u001b[0m \u001b[1m0s\u001b[0m 2ms/step - accuracy: 0.8727 - loss: 0.3248 - val_accuracy: 0.8469 - val_loss: 0.3547\n",
      "Epoch 20/100\n",
      "\u001b[1m200/200\u001b[0m \u001b[32m━━━━━━━━━━━━━━━━━━━━\u001b[0m\u001b[37m\u001b[0m \u001b[1m0s\u001b[0m 2ms/step - accuracy: 0.8638 - loss: 0.3401 - val_accuracy: 0.8469 - val_loss: 0.3543\n",
      "Epoch 21/100\n",
      "\u001b[1m200/200\u001b[0m \u001b[32m━━━━━━━━━━━━━━━━━━━━\u001b[0m\u001b[37m\u001b[0m \u001b[1m0s\u001b[0m 2ms/step - accuracy: 0.8724 - loss: 0.3267 - val_accuracy: 0.8475 - val_loss: 0.3543\n",
      "Epoch 22/100\n",
      "\u001b[1m200/200\u001b[0m \u001b[32m━━━━━━━━━━━━━━━━━━━━\u001b[0m\u001b[37m\u001b[0m \u001b[1m0s\u001b[0m 2ms/step - accuracy: 0.8594 - loss: 0.3442 - val_accuracy: 0.8525 - val_loss: 0.3528\n",
      "Epoch 23/100\n",
      "\u001b[1m200/200\u001b[0m \u001b[32m━━━━━━━━━━━━━━━━━━━━\u001b[0m\u001b[37m\u001b[0m \u001b[1m0s\u001b[0m 2ms/step - accuracy: 0.8559 - loss: 0.3509 - val_accuracy: 0.8462 - val_loss: 0.3544\n",
      "Epoch 24/100\n",
      "\u001b[1m200/200\u001b[0m \u001b[32m━━━━━━━━━━━━━━━━━━━━\u001b[0m\u001b[37m\u001b[0m \u001b[1m0s\u001b[0m 2ms/step - accuracy: 0.8706 - loss: 0.3279 - val_accuracy: 0.8475 - val_loss: 0.3542\n",
      "Epoch 25/100\n",
      "\u001b[1m200/200\u001b[0m \u001b[32m━━━━━━━━━━━━━━━━━━━━\u001b[0m\u001b[37m\u001b[0m \u001b[1m0s\u001b[0m 2ms/step - accuracy: 0.8667 - loss: 0.3280 - val_accuracy: 0.8475 - val_loss: 0.3545\n",
      "Epoch 26/100\n",
      "\u001b[1m200/200\u001b[0m \u001b[32m━━━━━━━━━━━━━━━━━━━━\u001b[0m\u001b[37m\u001b[0m \u001b[1m0s\u001b[0m 2ms/step - accuracy: 0.8613 - loss: 0.3340 - val_accuracy: 0.8494 - val_loss: 0.3545\n",
      "Epoch 27/100\n",
      "\u001b[1m200/200\u001b[0m \u001b[32m━━━━━━━━━━━━━━━━━━━━\u001b[0m\u001b[37m\u001b[0m \u001b[1m0s\u001b[0m 2ms/step - accuracy: 0.8659 - loss: 0.3311 - val_accuracy: 0.8500 - val_loss: 0.3533\n",
      "Epoch 28/100\n",
      "\u001b[1m200/200\u001b[0m \u001b[32m━━━━━━━━━━━━━━━━━━━━\u001b[0m\u001b[37m\u001b[0m \u001b[1m0s\u001b[0m 2ms/step - accuracy: 0.8709 - loss: 0.3218 - val_accuracy: 0.8481 - val_loss: 0.3534\n",
      "Epoch 29/100\n",
      "\u001b[1m200/200\u001b[0m \u001b[32m━━━━━━━━━━━━━━━━━━━━\u001b[0m\u001b[37m\u001b[0m \u001b[1m0s\u001b[0m 2ms/step - accuracy: 0.8701 - loss: 0.3295 - val_accuracy: 0.8444 - val_loss: 0.3567\n",
      "Epoch 30/100\n",
      "\u001b[1m200/200\u001b[0m \u001b[32m━━━━━━━━━━━━━━━━━━━━\u001b[0m\u001b[37m\u001b[0m \u001b[1m0s\u001b[0m 2ms/step - accuracy: 0.8703 - loss: 0.3272 - val_accuracy: 0.8475 - val_loss: 0.3529\n",
      "Epoch 31/100\n",
      "\u001b[1m200/200\u001b[0m \u001b[32m━━━━━━━━━━━━━━━━━━━━\u001b[0m\u001b[37m\u001b[0m \u001b[1m0s\u001b[0m 2ms/step - accuracy: 0.8709 - loss: 0.3329 - val_accuracy: 0.8419 - val_loss: 0.3556\n",
      "Epoch 32/100\n",
      "\u001b[1m200/200\u001b[0m \u001b[32m━━━━━━━━━━━━━━━━━━━━\u001b[0m\u001b[37m\u001b[0m \u001b[1m0s\u001b[0m 2ms/step - accuracy: 0.8671 - loss: 0.3381 - val_accuracy: 0.8500 - val_loss: 0.3527\n",
      "Epoch 33/100\n",
      "\u001b[1m200/200\u001b[0m \u001b[32m━━━━━━━━━━━━━━━━━━━━\u001b[0m\u001b[37m\u001b[0m \u001b[1m0s\u001b[0m 2ms/step - accuracy: 0.8654 - loss: 0.3288 - val_accuracy: 0.8469 - val_loss: 0.3536\n",
      "Epoch 34/100\n",
      "\u001b[1m200/200\u001b[0m \u001b[32m━━━━━━━━━━━━━━━━━━━━\u001b[0m\u001b[37m\u001b[0m \u001b[1m0s\u001b[0m 2ms/step - accuracy: 0.8647 - loss: 0.3344 - val_accuracy: 0.8531 - val_loss: 0.3522\n",
      "Epoch 35/100\n",
      "\u001b[1m200/200\u001b[0m \u001b[32m━━━━━━━━━━━━━━━━━━━━\u001b[0m\u001b[37m\u001b[0m \u001b[1m0s\u001b[0m 2ms/step - accuracy: 0.8670 - loss: 0.3292 - val_accuracy: 0.8481 - val_loss: 0.3523\n",
      "Epoch 36/100\n",
      "\u001b[1m200/200\u001b[0m \u001b[32m━━━━━━━━━━━━━━━━━━━━\u001b[0m\u001b[37m\u001b[0m \u001b[1m0s\u001b[0m 2ms/step - accuracy: 0.8699 - loss: 0.3312 - val_accuracy: 0.8450 - val_loss: 0.3550\n",
      "Epoch 37/100\n",
      "\u001b[1m200/200\u001b[0m \u001b[32m━━━━━━━━━━━━━━━━━━━━\u001b[0m\u001b[37m\u001b[0m \u001b[1m0s\u001b[0m 2ms/step - accuracy: 0.8656 - loss: 0.3305 - val_accuracy: 0.8469 - val_loss: 0.3530\n",
      "Epoch 38/100\n",
      "\u001b[1m200/200\u001b[0m \u001b[32m━━━━━━━━━━━━━━━━━━━━\u001b[0m\u001b[37m\u001b[0m \u001b[1m0s\u001b[0m 2ms/step - accuracy: 0.8628 - loss: 0.3351 - val_accuracy: 0.8531 - val_loss: 0.3521\n",
      "Epoch 39/100\n",
      "\u001b[1m200/200\u001b[0m \u001b[32m━━━━━━━━━━━━━━━━━━━━\u001b[0m\u001b[37m\u001b[0m \u001b[1m0s\u001b[0m 2ms/step - accuracy: 0.8649 - loss: 0.3321 - val_accuracy: 0.8487 - val_loss: 0.3540\n",
      "Epoch 40/100\n",
      "\u001b[1m200/200\u001b[0m \u001b[32m━━━━━━━━━━━━━━━━━━━━\u001b[0m\u001b[37m\u001b[0m \u001b[1m0s\u001b[0m 2ms/step - accuracy: 0.8700 - loss: 0.3283 - val_accuracy: 0.8525 - val_loss: 0.3521\n",
      "Epoch 41/100\n",
      "\u001b[1m200/200\u001b[0m \u001b[32m━━━━━━━━━━━━━━━━━━━━\u001b[0m\u001b[37m\u001b[0m \u001b[1m0s\u001b[0m 2ms/step - accuracy: 0.8680 - loss: 0.3235 - val_accuracy: 0.8525 - val_loss: 0.3516\n",
      "Epoch 42/100\n",
      "\u001b[1m200/200\u001b[0m \u001b[32m━━━━━━━━━━━━━━━━━━━━\u001b[0m\u001b[37m\u001b[0m \u001b[1m0s\u001b[0m 2ms/step - accuracy: 0.8671 - loss: 0.3234 - val_accuracy: 0.8494 - val_loss: 0.3542\n",
      "Epoch 43/100\n",
      "\u001b[1m200/200\u001b[0m \u001b[32m━━━━━━━━━━━━━━━━━━━━\u001b[0m\u001b[37m\u001b[0m \u001b[1m0s\u001b[0m 2ms/step - accuracy: 0.8642 - loss: 0.3336 - val_accuracy: 0.8531 - val_loss: 0.3522\n",
      "Epoch 44/100\n",
      "\u001b[1m200/200\u001b[0m \u001b[32m━━━━━━━━━━━━━━━━━━━━\u001b[0m\u001b[37m\u001b[0m \u001b[1m0s\u001b[0m 2ms/step - accuracy: 0.8707 - loss: 0.3196 - val_accuracy: 0.8500 - val_loss: 0.3509\n",
      "Epoch 45/100\n",
      "\u001b[1m200/200\u001b[0m \u001b[32m━━━━━━━━━━━━━━━━━━━━\u001b[0m\u001b[37m\u001b[0m \u001b[1m0s\u001b[0m 2ms/step - accuracy: 0.8663 - loss: 0.3265 - val_accuracy: 0.8469 - val_loss: 0.3522\n",
      "Epoch 46/100\n",
      "\u001b[1m200/200\u001b[0m \u001b[32m━━━━━━━━━━━━━━━━━━━━\u001b[0m\u001b[37m\u001b[0m \u001b[1m0s\u001b[0m 2ms/step - accuracy: 0.8688 - loss: 0.3257 - val_accuracy: 0.8487 - val_loss: 0.3512\n",
      "Epoch 47/100\n",
      "\u001b[1m200/200\u001b[0m \u001b[32m━━━━━━━━━━━━━━━━━━━━\u001b[0m\u001b[37m\u001b[0m \u001b[1m0s\u001b[0m 2ms/step - accuracy: 0.8661 - loss: 0.3238 - val_accuracy: 0.8444 - val_loss: 0.3524\n",
      "Epoch 48/100\n",
      "\u001b[1m200/200\u001b[0m \u001b[32m━━━━━━━━━━━━━━━━━━━━\u001b[0m\u001b[37m\u001b[0m \u001b[1m0s\u001b[0m 2ms/step - accuracy: 0.8669 - loss: 0.3233 - val_accuracy: 0.8506 - val_loss: 0.3523\n",
      "Epoch 49/100\n",
      "\u001b[1m200/200\u001b[0m \u001b[32m━━━━━━━━━━━━━━━━━━━━\u001b[0m\u001b[37m\u001b[0m \u001b[1m0s\u001b[0m 2ms/step - accuracy: 0.8686 - loss: 0.3249 - val_accuracy: 0.8531 - val_loss: 0.3511\n",
      "Epoch 50/100\n",
      "\u001b[1m200/200\u001b[0m \u001b[32m━━━━━━━━━━━━━━━━━━━━\u001b[0m\u001b[37m\u001b[0m \u001b[1m0s\u001b[0m 2ms/step - accuracy: 0.8716 - loss: 0.3209 - val_accuracy: 0.8456 - val_loss: 0.3532\n",
      "Epoch 51/100\n",
      "\u001b[1m200/200\u001b[0m \u001b[32m━━━━━━━━━━━━━━━━━━━━\u001b[0m\u001b[37m\u001b[0m \u001b[1m0s\u001b[0m 2ms/step - accuracy: 0.8692 - loss: 0.3239 - val_accuracy: 0.8475 - val_loss: 0.3530\n",
      "Epoch 52/100\n",
      "\u001b[1m200/200\u001b[0m \u001b[32m━━━━━━━━━━━━━━━━━━━━\u001b[0m\u001b[37m\u001b[0m \u001b[1m0s\u001b[0m 2ms/step - accuracy: 0.8685 - loss: 0.3277 - val_accuracy: 0.8475 - val_loss: 0.3533\n",
      "Epoch 53/100\n",
      "\u001b[1m200/200\u001b[0m \u001b[32m━━━━━━━━━━━━━━━━━━━━\u001b[0m\u001b[37m\u001b[0m \u001b[1m0s\u001b[0m 2ms/step - accuracy: 0.8696 - loss: 0.3227 - val_accuracy: 0.8531 - val_loss: 0.3527\n",
      "Epoch 54/100\n",
      "\u001b[1m200/200\u001b[0m \u001b[32m━━━━━━━━━━━━━━━━━━━━\u001b[0m\u001b[37m\u001b[0m \u001b[1m0s\u001b[0m 2ms/step - accuracy: 0.8675 - loss: 0.3257 - val_accuracy: 0.8519 - val_loss: 0.3530\n",
      "Epoch 55/100\n",
      "\u001b[1m200/200\u001b[0m \u001b[32m━━━━━━━━━━━━━━━━━━━━\u001b[0m\u001b[37m\u001b[0m \u001b[1m0s\u001b[0m 2ms/step - accuracy: 0.8665 - loss: 0.3327 - val_accuracy: 0.8531 - val_loss: 0.3506\n",
      "Epoch 56/100\n",
      "\u001b[1m200/200\u001b[0m \u001b[32m━━━━━━━━━━━━━━━━━━━━\u001b[0m\u001b[37m\u001b[0m \u001b[1m0s\u001b[0m 2ms/step - accuracy: 0.8690 - loss: 0.3303 - val_accuracy: 0.8494 - val_loss: 0.3511\n",
      "Epoch 57/100\n",
      "\u001b[1m200/200\u001b[0m \u001b[32m━━━━━━━━━━━━━━━━━━━━\u001b[0m\u001b[37m\u001b[0m \u001b[1m0s\u001b[0m 2ms/step - accuracy: 0.8737 - loss: 0.3244 - val_accuracy: 0.8525 - val_loss: 0.3506\n",
      "Epoch 58/100\n",
      "\u001b[1m200/200\u001b[0m \u001b[32m━━━━━━━━━━━━━━━━━━━━\u001b[0m\u001b[37m\u001b[0m \u001b[1m0s\u001b[0m 2ms/step - accuracy: 0.8727 - loss: 0.3169 - val_accuracy: 0.8525 - val_loss: 0.3521\n",
      "Epoch 59/100\n",
      "\u001b[1m200/200\u001b[0m \u001b[32m━━━━━━━━━━━━━━━━━━━━\u001b[0m\u001b[37m\u001b[0m \u001b[1m0s\u001b[0m 2ms/step - accuracy: 0.8671 - loss: 0.3278 - val_accuracy: 0.8519 - val_loss: 0.3512\n",
      "Epoch 60/100\n",
      "\u001b[1m200/200\u001b[0m \u001b[32m━━━━━━━━━━━━━━━━━━━━\u001b[0m\u001b[37m\u001b[0m \u001b[1m0s\u001b[0m 2ms/step - accuracy: 0.8662 - loss: 0.3238 - val_accuracy: 0.8481 - val_loss: 0.3513\n",
      "Epoch 61/100\n",
      "\u001b[1m200/200\u001b[0m \u001b[32m━━━━━━━━━━━━━━━━━━━━\u001b[0m\u001b[37m\u001b[0m \u001b[1m0s\u001b[0m 2ms/step - accuracy: 0.8653 - loss: 0.3219 - val_accuracy: 0.8438 - val_loss: 0.3553\n",
      "Epoch 62/100\n",
      "\u001b[1m200/200\u001b[0m \u001b[32m━━━━━━━━━━━━━━━━━━━━\u001b[0m\u001b[37m\u001b[0m \u001b[1m0s\u001b[0m 2ms/step - accuracy: 0.8624 - loss: 0.3346 - val_accuracy: 0.8469 - val_loss: 0.3527\n",
      "Epoch 63/100\n",
      "\u001b[1m200/200\u001b[0m \u001b[32m━━━━━━━━━━━━━━━━━━━━\u001b[0m\u001b[37m\u001b[0m \u001b[1m0s\u001b[0m 2ms/step - accuracy: 0.8624 - loss: 0.3258 - val_accuracy: 0.8487 - val_loss: 0.3514\n",
      "Epoch 64/100\n",
      "\u001b[1m200/200\u001b[0m \u001b[32m━━━━━━━━━━━━━━━━━━━━\u001b[0m\u001b[37m\u001b[0m \u001b[1m0s\u001b[0m 2ms/step - accuracy: 0.8716 - loss: 0.3219 - val_accuracy: 0.8475 - val_loss: 0.3525\n",
      "Epoch 65/100\n",
      "\u001b[1m200/200\u001b[0m \u001b[32m━━━━━━━━━━━━━━━━━━━━\u001b[0m\u001b[37m\u001b[0m \u001b[1m0s\u001b[0m 2ms/step - accuracy: 0.8717 - loss: 0.3202 - val_accuracy: 0.8456 - val_loss: 0.3535\n",
      "Epoch 66/100\n",
      "\u001b[1m200/200\u001b[0m \u001b[32m━━━━━━━━━━━━━━━━━━━━\u001b[0m\u001b[37m\u001b[0m \u001b[1m0s\u001b[0m 2ms/step - accuracy: 0.8732 - loss: 0.3079 - val_accuracy: 0.8506 - val_loss: 0.3519\n",
      "Epoch 67/100\n",
      "\u001b[1m200/200\u001b[0m \u001b[32m━━━━━━━━━━━━━━━━━━━━\u001b[0m\u001b[37m\u001b[0m \u001b[1m0s\u001b[0m 2ms/step - accuracy: 0.8688 - loss: 0.3293 - val_accuracy: 0.8469 - val_loss: 0.3521\n",
      "Epoch 68/100\n",
      "\u001b[1m200/200\u001b[0m \u001b[32m━━━━━━━━━━━━━━━━━━━━\u001b[0m\u001b[37m\u001b[0m \u001b[1m0s\u001b[0m 2ms/step - accuracy: 0.8633 - loss: 0.3249 - val_accuracy: 0.8462 - val_loss: 0.3528\n",
      "Epoch 69/100\n",
      "\u001b[1m200/200\u001b[0m \u001b[32m━━━━━━━━━━━━━━━━━━━━\u001b[0m\u001b[37m\u001b[0m \u001b[1m0s\u001b[0m 2ms/step - accuracy: 0.8721 - loss: 0.3205 - val_accuracy: 0.8531 - val_loss: 0.3525\n",
      "Epoch 70/100\n",
      "\u001b[1m200/200\u001b[0m \u001b[32m━━━━━━━━━━━━━━━━━━━━\u001b[0m\u001b[37m\u001b[0m \u001b[1m0s\u001b[0m 2ms/step - accuracy: 0.8576 - loss: 0.3455 - val_accuracy: 0.8462 - val_loss: 0.3544\n",
      "Epoch 71/100\n",
      "\u001b[1m200/200\u001b[0m \u001b[32m━━━━━━━━━━━━━━━━━━━━\u001b[0m\u001b[37m\u001b[0m \u001b[1m0s\u001b[0m 2ms/step - accuracy: 0.8657 - loss: 0.3294 - val_accuracy: 0.8462 - val_loss: 0.3522\n",
      "Epoch 72/100\n",
      "\u001b[1m200/200\u001b[0m \u001b[32m━━━━━━━━━━━━━━━━━━━━\u001b[0m\u001b[37m\u001b[0m \u001b[1m0s\u001b[0m 2ms/step - accuracy: 0.8697 - loss: 0.3257 - val_accuracy: 0.8494 - val_loss: 0.3516\n",
      "Epoch 73/100\n",
      "\u001b[1m200/200\u001b[0m \u001b[32m━━━━━━━━━━━━━━━━━━━━\u001b[0m\u001b[37m\u001b[0m \u001b[1m0s\u001b[0m 2ms/step - accuracy: 0.8681 - loss: 0.3218 - val_accuracy: 0.8456 - val_loss: 0.3529\n",
      "Epoch 74/100\n",
      "\u001b[1m200/200\u001b[0m \u001b[32m━━━━━━━━━━━━━━━━━━━━\u001b[0m\u001b[37m\u001b[0m \u001b[1m0s\u001b[0m 2ms/step - accuracy: 0.8645 - loss: 0.3320 - val_accuracy: 0.8481 - val_loss: 0.3517\n",
      "Epoch 75/100\n",
      "\u001b[1m200/200\u001b[0m \u001b[32m━━━━━━━━━━━━━━━━━━━━\u001b[0m\u001b[37m\u001b[0m \u001b[1m0s\u001b[0m 2ms/step - accuracy: 0.8658 - loss: 0.3283 - val_accuracy: 0.8438 - val_loss: 0.3550\n",
      "Epoch 76/100\n",
      "\u001b[1m200/200\u001b[0m \u001b[32m━━━━━━━━━━━━━━━━━━━━\u001b[0m\u001b[37m\u001b[0m \u001b[1m0s\u001b[0m 2ms/step - accuracy: 0.8672 - loss: 0.3218 - val_accuracy: 0.8444 - val_loss: 0.3549\n",
      "Epoch 77/100\n",
      "\u001b[1m200/200\u001b[0m \u001b[32m━━━━━━━━━━━━━━━━━━━━\u001b[0m\u001b[37m\u001b[0m \u001b[1m0s\u001b[0m 2ms/step - accuracy: 0.8688 - loss: 0.3220 - val_accuracy: 0.8487 - val_loss: 0.3522\n",
      "Epoch 78/100\n",
      "\u001b[1m200/200\u001b[0m \u001b[32m━━━━━━━━━━━━━━━━━━━━\u001b[0m\u001b[37m\u001b[0m \u001b[1m0s\u001b[0m 2ms/step - accuracy: 0.8682 - loss: 0.3209 - val_accuracy: 0.8506 - val_loss: 0.3534\n",
      "Epoch 79/100\n",
      "\u001b[1m200/200\u001b[0m \u001b[32m━━━━━━━━━━━━━━━━━━━━\u001b[0m\u001b[37m\u001b[0m \u001b[1m0s\u001b[0m 2ms/step - accuracy: 0.8714 - loss: 0.3180 - val_accuracy: 0.8462 - val_loss: 0.3534\n",
      "Epoch 80/100\n",
      "\u001b[1m200/200\u001b[0m \u001b[32m━━━━━━━━━━━━━━━━━━━━\u001b[0m\u001b[37m\u001b[0m \u001b[1m0s\u001b[0m 2ms/step - accuracy: 0.8688 - loss: 0.3305 - val_accuracy: 0.8487 - val_loss: 0.3521\n",
      "Epoch 81/100\n",
      "\u001b[1m200/200\u001b[0m \u001b[32m━━━━━━━━━━━━━━━━━━━━\u001b[0m\u001b[37m\u001b[0m \u001b[1m0s\u001b[0m 2ms/step - accuracy: 0.8621 - loss: 0.3332 - val_accuracy: 0.8494 - val_loss: 0.3537\n",
      "Epoch 82/100\n",
      "\u001b[1m200/200\u001b[0m \u001b[32m━━━━━━━━━━━━━━━━━━━━\u001b[0m\u001b[37m\u001b[0m \u001b[1m0s\u001b[0m 2ms/step - accuracy: 0.8645 - loss: 0.3283 - val_accuracy: 0.8494 - val_loss: 0.3560\n",
      "Epoch 83/100\n",
      "\u001b[1m200/200\u001b[0m \u001b[32m━━━━━━━━━━━━━━━━━━━━\u001b[0m\u001b[37m\u001b[0m \u001b[1m0s\u001b[0m 2ms/step - accuracy: 0.8752 - loss: 0.3209 - val_accuracy: 0.8481 - val_loss: 0.3533\n",
      "Epoch 84/100\n",
      "\u001b[1m200/200\u001b[0m \u001b[32m━━━━━━━━━━━━━━━━━━━━\u001b[0m\u001b[37m\u001b[0m \u001b[1m0s\u001b[0m 2ms/step - accuracy: 0.8633 - loss: 0.3301 - val_accuracy: 0.8438 - val_loss: 0.3594\n",
      "Epoch 85/100\n",
      "\u001b[1m200/200\u001b[0m \u001b[32m━━━━━━━━━━━━━━━━━━━━\u001b[0m\u001b[37m\u001b[0m \u001b[1m0s\u001b[0m 2ms/step - accuracy: 0.8670 - loss: 0.3276 - val_accuracy: 0.8562 - val_loss: 0.3507\n",
      "Epoch 86/100\n",
      "\u001b[1m200/200\u001b[0m \u001b[32m━━━━━━━━━━━━━━━━━━━━\u001b[0m\u001b[37m\u001b[0m \u001b[1m0s\u001b[0m 2ms/step - accuracy: 0.8622 - loss: 0.3281 - val_accuracy: 0.8500 - val_loss: 0.3526\n",
      "Epoch 87/100\n",
      "\u001b[1m200/200\u001b[0m \u001b[32m━━━━━━━━━━━━━━━━━━━━\u001b[0m\u001b[37m\u001b[0m \u001b[1m0s\u001b[0m 2ms/step - accuracy: 0.8665 - loss: 0.3196 - val_accuracy: 0.8506 - val_loss: 0.3528\n",
      "Epoch 88/100\n",
      "\u001b[1m200/200\u001b[0m \u001b[32m━━━━━━━━━━━━━━━━━━━━\u001b[0m\u001b[37m\u001b[0m \u001b[1m0s\u001b[0m 2ms/step - accuracy: 0.8701 - loss: 0.3129 - val_accuracy: 0.8575 - val_loss: 0.3523\n",
      "Epoch 89/100\n",
      "\u001b[1m200/200\u001b[0m \u001b[32m━━━━━━━━━━━━━━━━━━━━\u001b[0m\u001b[37m\u001b[0m \u001b[1m0s\u001b[0m 2ms/step - accuracy: 0.8691 - loss: 0.3229 - val_accuracy: 0.8487 - val_loss: 0.3539\n",
      "Epoch 90/100\n",
      "\u001b[1m200/200\u001b[0m \u001b[32m━━━━━━━━━━━━━━━━━━━━\u001b[0m\u001b[37m\u001b[0m \u001b[1m0s\u001b[0m 2ms/step - accuracy: 0.8729 - loss: 0.3192 - val_accuracy: 0.8462 - val_loss: 0.3536\n",
      "Epoch 91/100\n",
      "\u001b[1m200/200\u001b[0m \u001b[32m━━━━━━━━━━━━━━━━━━━━\u001b[0m\u001b[37m\u001b[0m \u001b[1m0s\u001b[0m 2ms/step - accuracy: 0.8716 - loss: 0.3137 - val_accuracy: 0.8475 - val_loss: 0.3544\n",
      "Epoch 92/100\n",
      "\u001b[1m200/200\u001b[0m \u001b[32m━━━━━━━━━━━━━━━━━━━━\u001b[0m\u001b[37m\u001b[0m \u001b[1m0s\u001b[0m 2ms/step - accuracy: 0.8679 - loss: 0.3220 - val_accuracy: 0.8500 - val_loss: 0.3546\n",
      "Epoch 93/100\n",
      "\u001b[1m200/200\u001b[0m \u001b[32m━━━━━━━━━━━━━━━━━━━━\u001b[0m\u001b[37m\u001b[0m \u001b[1m0s\u001b[0m 2ms/step - accuracy: 0.8715 - loss: 0.3138 - val_accuracy: 0.8487 - val_loss: 0.3535\n",
      "Epoch 94/100\n",
      "\u001b[1m200/200\u001b[0m \u001b[32m━━━━━━━━━━━━━━━━━━━━\u001b[0m\u001b[37m\u001b[0m \u001b[1m0s\u001b[0m 2ms/step - accuracy: 0.8605 - loss: 0.3296 - val_accuracy: 0.8500 - val_loss: 0.3545\n",
      "Epoch 95/100\n",
      "\u001b[1m200/200\u001b[0m \u001b[32m━━━━━━━━━━━━━━━━━━━━\u001b[0m\u001b[37m\u001b[0m \u001b[1m0s\u001b[0m 2ms/step - accuracy: 0.8682 - loss: 0.3192 - val_accuracy: 0.8550 - val_loss: 0.3523\n",
      "Epoch 96/100\n",
      "\u001b[1m200/200\u001b[0m \u001b[32m━━━━━━━━━━━━━━━━━━━━\u001b[0m\u001b[37m\u001b[0m \u001b[1m0s\u001b[0m 2ms/step - accuracy: 0.8720 - loss: 0.3149 - val_accuracy: 0.8525 - val_loss: 0.3532\n",
      "Epoch 97/100\n",
      "\u001b[1m200/200\u001b[0m \u001b[32m━━━━━━━━━━━━━━━━━━━━\u001b[0m\u001b[37m\u001b[0m \u001b[1m0s\u001b[0m 2ms/step - accuracy: 0.8656 - loss: 0.3219 - val_accuracy: 0.8506 - val_loss: 0.3534\n",
      "Epoch 98/100\n",
      "\u001b[1m200/200\u001b[0m \u001b[32m━━━━━━━━━━━━━━━━━━━━\u001b[0m\u001b[37m\u001b[0m \u001b[1m0s\u001b[0m 2ms/step - accuracy: 0.8693 - loss: 0.3208 - val_accuracy: 0.8481 - val_loss: 0.3552\n",
      "Epoch 99/100\n",
      "\u001b[1m200/200\u001b[0m \u001b[32m━━━━━━━━━━━━━━━━━━━━\u001b[0m\u001b[37m\u001b[0m \u001b[1m0s\u001b[0m 2ms/step - accuracy: 0.8683 - loss: 0.3222 - val_accuracy: 0.8494 - val_loss: 0.3536\n",
      "Epoch 100/100\n",
      "\u001b[1m200/200\u001b[0m \u001b[32m━━━━━━━━━━━━━━━━━━━━\u001b[0m\u001b[37m\u001b[0m \u001b[1m0s\u001b[0m 2ms/step - accuracy: 0.8734 - loss: 0.3096 - val_accuracy: 0.8550 - val_loss: 0.3520\n"
     ]
    }
   ],
   "source": [
    "# we are storing this dictionary in vairable and we can plot the graph at the different stages of epochs and we can see how our model perform\n",
    "history = model.fit(X_train_scaled,Y_train,epochs=100,validation_split=0.2)"
   ]
  },
  {
   "cell_type": "code",
   "execution_count": 53,
   "metadata": {
    "execution": {
     "iopub.execute_input": "2025-01-09T08:51:52.096129Z",
     "iopub.status.busy": "2025-01-09T08:51:52.095687Z",
     "iopub.status.idle": "2025-01-09T08:51:52.109211Z",
     "shell.execute_reply": "2025-01-09T08:51:52.107943Z",
     "shell.execute_reply.started": "2025-01-09T08:51:52.096097Z"
    }
   },
   "outputs": [
    {
     "data": {
      "text/plain": [
       "[array([[ 5.02609387e-02, -1.36517256e-01,  9.44687612e-03,\n",
       "          1.34590670e-01, -6.59529716e-02,  1.60841104e-02,\n",
       "          3.49059738e-02,  3.05831373e-01, -2.75462549e-02,\n",
       "          1.23092264e-01, -1.06044196e-01],\n",
       "        [ 3.30721527e-01,  2.22256675e-01, -6.28955066e-01,\n",
       "          5.94781458e-01, -7.16059446e-01,  3.21568474e-02,\n",
       "         -1.33563399e-01, -5.84855676e-01,  2.27059230e-01,\n",
       "         -6.23216748e-01, -7.41297364e-01],\n",
       "        [ 1.69619486e-01,  1.83704659e-01,  2.31183380e-01,\n",
       "         -1.24061383e-01, -1.05516404e-01, -9.09345970e-02,\n",
       "         -1.65369108e-01, -3.47910225e-01,  5.44896796e-02,\n",
       "         -1.91215888e-01,  4.00304608e-02],\n",
       "        [ 1.23082809e-01, -3.83604348e-01,  5.64104840e-02,\n",
       "         -1.22144029e-01,  3.47532630e-01,  1.83119953e-01,\n",
       "         -2.90966123e-01, -2.26645201e-01, -5.82456231e-01,\n",
       "         -7.08817912e-04, -4.29805517e-01],\n",
       "        [ 5.26218638e-02, -7.86108989e-03, -3.98976088e-01,\n",
       "          2.50511318e-01,  1.33366967e-02,  1.16485155e+00,\n",
       "         -1.09509277e+00,  1.26335219e-01,  1.32008031e-01,\n",
       "          3.47043425e-01,  6.50938302e-02],\n",
       "        [-5.60885407e-02,  3.98395717e-01,  7.47886479e-01,\n",
       "          4.97795820e-01,  6.26754314e-02,  7.31866211e-02,\n",
       "          2.24487722e-01,  6.99347317e-01,  2.80126661e-01,\n",
       "         -5.47724366e-01,  2.95294821e-01],\n",
       "        [ 8.21436048e-01,  8.00288796e-01,  2.67473280e-01,\n",
       "          5.92853248e-01, -5.04821122e-01, -1.99787140e-01,\n",
       "         -3.76248181e-01, -2.42206886e-01, -8.47053826e-01,\n",
       "         -1.54890656e-01, -1.01639710e-01],\n",
       "        [-1.03159957e-02,  1.37093768e-01, -2.04915956e-01,\n",
       "          1.19090311e-01, -5.05095813e-03, -1.52733354e-02,\n",
       "          5.75159825e-02,  3.00290197e-01, -3.19932520e-01,\n",
       "          1.91099048e-02, -9.04244632e-02],\n",
       "        [-2.81540066e-01,  3.69350123e-03, -8.16993773e-01,\n",
       "         -7.48655871e-02, -2.11081669e-01, -2.08231211e-01,\n",
       "         -3.42929084e-03,  3.90278921e-02, -6.62694573e-01,\n",
       "         -8.23727697e-02,  4.17987168e-01],\n",
       "        [-8.74203742e-02,  2.98776329e-01,  4.27915841e-01,\n",
       "          6.93208631e-03, -2.70390332e-01,  1.35798663e-01,\n",
       "         -7.94387162e-02, -4.52147692e-01,  1.12378992e-01,\n",
       "          9.17384680e-03,  2.20714211e-01],\n",
       "        [-3.31543595e-01,  3.17694753e-01,  1.29822299e-01,\n",
       "          5.86657524e-01,  2.18619108e-01,  1.38197746e-02,\n",
       "          1.13361202e-01, -4.59603854e-02,  2.06813589e-02,\n",
       "          1.01286694e-01, -2.39110105e-02]], dtype=float32),\n",
       " array([ 0.15378523,  0.3588831 ,  0.14488558,  0.25062674,  0.80537957,\n",
       "        -0.4304843 ,  0.24054292,  0.534087  ,  0.34247956,  0.47697863,\n",
       "         0.67950207], dtype=float32)]"
      ]
     },
     "execution_count": 53,
     "metadata": {},
     "output_type": "execute_result"
    }
   ],
   "source": [
    "# in this output we have 33 weights from our first between input and hidden layer with 3 bias Total = 36 \n",
    "model.layers[0].get_weights()"
   ]
  },
  {
   "cell_type": "code",
   "execution_count": 54,
   "metadata": {
    "execution": {
     "iopub.execute_input": "2025-01-09T08:51:55.404203Z",
     "iopub.status.busy": "2025-01-09T08:51:55.403868Z",
     "iopub.status.idle": "2025-01-09T08:51:55.415812Z",
     "shell.execute_reply": "2025-01-09T08:51:55.414543Z",
     "shell.execute_reply.started": "2025-01-09T08:51:55.404173Z"
    }
   },
   "outputs": [
    {
     "data": {
      "text/plain": [
       "[array([[ 5.39240777e-01, -6.50068745e-02,  2.86531858e-02,\n",
       "         -4.96006072e-01, -3.75378489e-01, -1.03352800e-01,\n",
       "          3.61295283e-01,  1.48684204e-01, -1.09442151e+00,\n",
       "          2.07258776e-01,  6.10225737e-01],\n",
       "        [ 3.75436783e-01,  5.47751427e-01, -9.18778926e-02,\n",
       "          5.89330085e-02, -5.37925780e-01,  8.31530541e-02,\n",
       "         -3.36990744e-01,  6.05078220e-01,  3.96058559e-01,\n",
       "          7.86791816e-02,  5.44785976e-01],\n",
       "        [ 2.14262709e-01, -3.91886532e-01, -8.89188111e-01,\n",
       "         -3.05672109e-01, -3.03106487e-01, -8.17106307e-01,\n",
       "          1.77594990e-01, -7.73874670e-03,  2.59359837e-01,\n",
       "         -3.74141306e-01, -1.36638686e-01],\n",
       "        [ 1.85936689e-01, -2.70734310e-01,  5.43276548e-01,\n",
       "         -1.96663737e-01,  4.80797231e-01, -2.03192413e-01,\n",
       "          1.41507238e-01,  2.26706341e-01, -3.12463790e-01,\n",
       "          2.73298115e-01,  6.52729213e-01],\n",
       "        [ 5.67169249e-01, -6.07203424e-01, -2.43048906e-01,\n",
       "          3.53296101e-01,  3.24842811e-01, -1.99534949e-02,\n",
       "          5.85228920e-01, -1.94300219e-01, -7.23355114e-01,\n",
       "         -4.84541386e-01,  2.14896917e-01],\n",
       "        [-2.95029581e-01, -8.12435687e-01, -5.05422950e-01,\n",
       "         -3.79462898e-01,  9.27323699e-01,  5.89456975e-01,\n",
       "          3.33214886e-02, -3.13189715e-01, -1.17343605e+00,\n",
       "          1.17702043e+00, -2.54413009e-01],\n",
       "        [-5.83744407e-01,  5.37902653e-01, -1.71558648e-01,\n",
       "         -4.73326892e-01,  2.33175188e-01,  4.59263533e-01,\n",
       "         -4.53449134e-03,  1.61046423e-02,  7.30129182e-02,\n",
       "          5.49589276e-01,  1.60781406e-02],\n",
       "        [-2.32017890e-01, -3.51554632e-01, -6.51111901e-01,\n",
       "          6.07773006e-01, -3.94005701e-02,  1.85305224e-04,\n",
       "          2.12081686e-01, -1.10289894e-01, -8.56296301e-01,\n",
       "         -3.17932010e-01,  5.80966532e-01],\n",
       "        [ 6.00713789e-01,  6.08885825e-01,  4.69806910e-01,\n",
       "          3.12712461e-01,  8.18141028e-02, -3.37373912e-02,\n",
       "          4.90203984e-02,  5.32198325e-02, -4.34083492e-02,\n",
       "         -8.43089297e-02,  1.13857992e-01],\n",
       "        [ 1.81321666e-01, -3.19484085e-01,  5.09950519e-01,\n",
       "          2.86570519e-01,  8.09466720e-01, -7.33344734e-01,\n",
       "         -1.45616323e-01,  7.92817652e-01,  1.17564723e-01,\n",
       "         -3.82017195e-01,  2.38631874e-01],\n",
       "        [-3.88887450e-02, -2.72106111e-01,  8.49942088e-01,\n",
       "          4.90844309e-01,  1.65463999e-01, -7.61962263e-03,\n",
       "         -7.39008427e-01, -7.49706507e-01,  3.94655734e-01,\n",
       "         -5.27929246e-01,  5.47691226e-01]], dtype=float32),\n",
       " array([ 0.1791279 ,  0.6463118 , -0.01081752,  0.45900425, -0.20511839,\n",
       "         0.52151906,  0.1432644 , -0.0078575 , -0.30005056,  0.5556625 ,\n",
       "         0.08027221], dtype=float32)]"
      ]
     },
     "execution_count": 54,
     "metadata": {},
     "output_type": "execute_result"
    }
   ],
   "source": [
    "model.layers[1].get_weights()"
   ]
  },
  {
   "cell_type": "code",
   "execution_count": 55,
   "metadata": {
    "execution": {
     "iopub.execute_input": "2025-01-09T08:51:59.629637Z",
     "iopub.status.busy": "2025-01-09T08:51:59.629235Z",
     "iopub.status.idle": "2025-01-09T08:51:59.888830Z",
     "shell.execute_reply": "2025-01-09T08:51:59.887317Z",
     "shell.execute_reply.started": "2025-01-09T08:51:59.629606Z"
    }
   },
   "outputs": [
    {
     "name": "stdout",
     "output_type": "stream",
     "text": [
      "\u001b[1m63/63\u001b[0m \u001b[32m━━━━━━━━━━━━━━━━━━━━\u001b[0m\u001b[37m\u001b[0m \u001b[1m0s\u001b[0m 2ms/step\n"
     ]
    }
   ],
   "source": [
    "# Prediction \n",
    "Y_log = model.predict(X_test_scaled)"
   ]
  },
  {
   "cell_type": "code",
   "execution_count": 56,
   "metadata": {
    "execution": {
     "iopub.execute_input": "2025-01-09T08:52:00.027266Z",
     "iopub.status.busy": "2025-01-09T08:52:00.026854Z",
     "iopub.status.idle": "2025-01-09T08:52:00.032568Z",
     "shell.execute_reply": "2025-01-09T08:52:00.031373Z",
     "shell.execute_reply.started": "2025-01-09T08:52:00.027234Z"
    }
   },
   "outputs": [],
   "source": [
    "Y_pred = np.where(Y_log>0.5,1,0)"
   ]
  },
  {
   "cell_type": "code",
   "execution_count": 57,
   "metadata": {
    "execution": {
     "iopub.execute_input": "2025-01-09T08:52:00.604955Z",
     "iopub.status.busy": "2025-01-09T08:52:00.604494Z",
     "iopub.status.idle": "2025-01-09T08:52:00.614048Z",
     "shell.execute_reply": "2025-01-09T08:52:00.612948Z",
     "shell.execute_reply.started": "2025-01-09T08:52:00.604918Z"
    }
   },
   "outputs": [
    {
     "data": {
      "text/plain": [
       "0.86"
      ]
     },
     "execution_count": 57,
     "metadata": {},
     "output_type": "execute_result"
    }
   ],
   "source": [
    "from sklearn.metrics import accuracy_score\n",
    "accuracy_score(Y_test,Y_pred)"
   ]
  },
  {
   "cell_type": "code",
   "execution_count": 62,
   "metadata": {
    "execution": {
     "iopub.execute_input": "2025-01-09T08:54:57.680132Z",
     "iopub.status.busy": "2025-01-09T08:54:57.679682Z",
     "iopub.status.idle": "2025-01-09T08:54:57.685829Z",
     "shell.execute_reply": "2025-01-09T08:54:57.684424Z",
     "shell.execute_reply.started": "2025-01-09T08:54:57.680099Z"
    }
   },
   "outputs": [],
   "source": [
    "import matplotlib.pyplot as plt"
   ]
  },
  {
   "cell_type": "code",
   "execution_count": 63,
   "metadata": {
    "execution": {
     "iopub.execute_input": "2025-01-09T08:55:10.523891Z",
     "iopub.status.busy": "2025-01-09T08:55:10.523424Z",
     "iopub.status.idle": "2025-01-09T08:55:10.534476Z",
     "shell.execute_reply": "2025-01-09T08:55:10.533381Z",
     "shell.execute_reply.started": "2025-01-09T08:55:10.523857Z"
    }
   },
   "outputs": [
    {
     "data": {
      "text/plain": [
       "{'accuracy': [0.7770312428474426,\n",
       "  0.7985937595367432,\n",
       "  0.8056250214576721,\n",
       "  0.8193749785423279,\n",
       "  0.8315625190734863,\n",
       "  0.8412500023841858,\n",
       "  0.8490625023841858,\n",
       "  0.8534374833106995,\n",
       "  0.8535937666893005,\n",
       "  0.8579687476158142,\n",
       "  0.860156238079071,\n",
       "  0.8598437309265137,\n",
       "  0.8607812523841858,\n",
       "  0.8609374761581421,\n",
       "  0.8634374737739563,\n",
       "  0.862500011920929,\n",
       "  0.8620312213897705,\n",
       "  0.8643749952316284,\n",
       "  0.8654687404632568,\n",
       "  0.8643749952316284,\n",
       "  0.8648437261581421,\n",
       "  0.8646875023841858,\n",
       "  0.8653125166893005,\n",
       "  0.864062488079071,\n",
       "  0.8646875023841858,\n",
       "  0.86328125,\n",
       "  0.8654687404632568,\n",
       "  0.8650000095367432,\n",
       "  0.8660937547683716,\n",
       "  0.8654687404632568,\n",
       "  0.8665624856948853,\n",
       "  0.8681250214576721,\n",
       "  0.8643749952316284,\n",
       "  0.8659374713897705,\n",
       "  0.8657812476158142,\n",
       "  0.8667187690734863,\n",
       "  0.8654687404632568,\n",
       "  0.8646875023841858,\n",
       "  0.8642187714576721,\n",
       "  0.8668749928474426,\n",
       "  0.8634374737739563,\n",
       "  0.8665624856948853,\n",
       "  0.8670312762260437,\n",
       "  0.8673437237739563,\n",
       "  0.8651562333106995,\n",
       "  0.8662499785423279,\n",
       "  0.8654687404632568,\n",
       "  0.8653125166893005,\n",
       "  0.866406261920929,\n",
       "  0.8657812476158142,\n",
       "  0.8659374713897705,\n",
       "  0.866406261920929,\n",
       "  0.8667187690734863,\n",
       "  0.8665624856948853,\n",
       "  0.8675000071525574,\n",
       "  0.8662499785423279,\n",
       "  0.8665624856948853,\n",
       "  0.8653125166893005,\n",
       "  0.8667187690734863,\n",
       "  0.8671875,\n",
       "  0.8659374713897705,\n",
       "  0.8662499785423279,\n",
       "  0.8665624856948853,\n",
       "  0.8670312762260437,\n",
       "  0.8690624833106995,\n",
       "  0.8665624856948853,\n",
       "  0.8685937523841858,\n",
       "  0.866406261920929,\n",
       "  0.8673437237739563,\n",
       "  0.8654687404632568,\n",
       "  0.8695312738418579,\n",
       "  0.8668749928474426,\n",
       "  0.8685937523841858,\n",
       "  0.8660937547683716,\n",
       "  0.8676562309265137,\n",
       "  0.866406261920929,\n",
       "  0.8690624833106995,\n",
       "  0.8678125143051147,\n",
       "  0.8653125166893005,\n",
       "  0.8678125143051147,\n",
       "  0.8665624856948853,\n",
       "  0.8682812452316284,\n",
       "  0.8681250214576721,\n",
       "  0.8681250214576721,\n",
       "  0.8675000071525574,\n",
       "  0.8675000071525574,\n",
       "  0.8667187690734863,\n",
       "  0.8653125166893005,\n",
       "  0.8681250214576721,\n",
       "  0.8687499761581421,\n",
       "  0.8676562309265137,\n",
       "  0.8650000095367432,\n",
       "  0.8659374713897705,\n",
       "  0.8693749904632568,\n",
       "  0.8684375286102295,\n",
       "  0.8667187690734863,\n",
       "  0.8673437237739563,\n",
       "  0.8684375286102295,\n",
       "  0.8671875,\n",
       "  0.8678125143051147],\n",
       " 'loss': [0.5396180748939514,\n",
       "  0.45750662684440613,\n",
       "  0.4319923520088196,\n",
       "  0.41561996936798096,\n",
       "  0.4009573757648468,\n",
       "  0.3871985375881195,\n",
       "  0.37486958503723145,\n",
       "  0.36534062027931213,\n",
       "  0.35770702362060547,\n",
       "  0.35247036814689636,\n",
       "  0.34944283962249756,\n",
       "  0.3473222851753235,\n",
       "  0.3454124927520752,\n",
       "  0.3439081907272339,\n",
       "  0.34225597977638245,\n",
       "  0.3418706953525543,\n",
       "  0.340310662984848,\n",
       "  0.33993321657180786,\n",
       "  0.33914101123809814,\n",
       "  0.33862683176994324,\n",
       "  0.33747032284736633,\n",
       "  0.33727800846099854,\n",
       "  0.3363610506057739,\n",
       "  0.3368321657180786,\n",
       "  0.33559367060661316,\n",
       "  0.3352513909339905,\n",
       "  0.33471453189849854,\n",
       "  0.3353106379508972,\n",
       "  0.3341323435306549,\n",
       "  0.3336702287197113,\n",
       "  0.33310753107070923,\n",
       "  0.33295658230781555,\n",
       "  0.33306488394737244,\n",
       "  0.3322267532348633,\n",
       "  0.33227139711380005,\n",
       "  0.33129751682281494,\n",
       "  0.3307921290397644,\n",
       "  0.33072930574417114,\n",
       "  0.3305160105228424,\n",
       "  0.3307582139968872,\n",
       "  0.33036869764328003,\n",
       "  0.32950904965400696,\n",
       "  0.3297092914581299,\n",
       "  0.329224169254303,\n",
       "  0.3288530111312866,\n",
       "  0.3286524713039398,\n",
       "  0.3287702202796936,\n",
       "  0.32860350608825684,\n",
       "  0.3287067413330078,\n",
       "  0.3281940221786499,\n",
       "  0.3278740346431732,\n",
       "  0.32806670665740967,\n",
       "  0.3277117908000946,\n",
       "  0.32744520902633667,\n",
       "  0.32802271842956543,\n",
       "  0.3271819055080414,\n",
       "  0.32722100615501404,\n",
       "  0.327306866645813,\n",
       "  0.32687488198280334,\n",
       "  0.32669180631637573,\n",
       "  0.3262852430343628,\n",
       "  0.3263586461544037,\n",
       "  0.3264833390712738,\n",
       "  0.32589516043663025,\n",
       "  0.3256974518299103,\n",
       "  0.3256963789463043,\n",
       "  0.32525092363357544,\n",
       "  0.3252723813056946,\n",
       "  0.3256392776966095,\n",
       "  0.32478439807891846,\n",
       "  0.32507801055908203,\n",
       "  0.32469600439071655,\n",
       "  0.3245220184326172,\n",
       "  0.3240521252155304,\n",
       "  0.3240091800689697,\n",
       "  0.3244592547416687,\n",
       "  0.3238493800163269,\n",
       "  0.3234921395778656,\n",
       "  0.32374992966651917,\n",
       "  0.3227884769439697,\n",
       "  0.3235245943069458,\n",
       "  0.3228091299533844,\n",
       "  0.32342663407325745,\n",
       "  0.32263848185539246,\n",
       "  0.32304710149765015,\n",
       "  0.32261744141578674,\n",
       "  0.3227936923503876,\n",
       "  0.32263103127479553,\n",
       "  0.322628378868103,\n",
       "  0.32210296392440796,\n",
       "  0.3221364915370941,\n",
       "  0.32180163264274597,\n",
       "  0.3217219114303589,\n",
       "  0.3218371272087097,\n",
       "  0.32160675525665283,\n",
       "  0.32212546467781067,\n",
       "  0.3211809992790222,\n",
       "  0.3221946954727173,\n",
       "  0.32162806391716003,\n",
       "  0.3214520514011383],\n",
       " 'val_accuracy': [0.7975000143051147,\n",
       "  0.8043749928474426,\n",
       "  0.8025000095367432,\n",
       "  0.8174999952316284,\n",
       "  0.8306249976158142,\n",
       "  0.8374999761581421,\n",
       "  0.8456249833106995,\n",
       "  0.8450000286102295,\n",
       "  0.8424999713897705,\n",
       "  0.8481249809265137,\n",
       "  0.8424999713897705,\n",
       "  0.846875011920929,\n",
       "  0.8450000286102295,\n",
       "  0.8481249809265137,\n",
       "  0.8431249856948853,\n",
       "  0.8475000262260437,\n",
       "  0.8487499952316284,\n",
       "  0.8475000262260437,\n",
       "  0.846875011920929,\n",
       "  0.846875011920929,\n",
       "  0.8475000262260437,\n",
       "  0.8525000214576721,\n",
       "  0.8462499976158142,\n",
       "  0.8475000262260437,\n",
       "  0.8475000262260437,\n",
       "  0.8493750095367432,\n",
       "  0.8500000238418579,\n",
       "  0.8481249809265137,\n",
       "  0.8443750143051147,\n",
       "  0.8475000262260437,\n",
       "  0.8418750166893005,\n",
       "  0.8500000238418579,\n",
       "  0.846875011920929,\n",
       "  0.8531249761581421,\n",
       "  0.8481249809265137,\n",
       "  0.8450000286102295,\n",
       "  0.846875011920929,\n",
       "  0.8531249761581421,\n",
       "  0.8487499952316284,\n",
       "  0.8525000214576721,\n",
       "  0.8525000214576721,\n",
       "  0.8493750095367432,\n",
       "  0.8531249761581421,\n",
       "  0.8500000238418579,\n",
       "  0.846875011920929,\n",
       "  0.8487499952316284,\n",
       "  0.8443750143051147,\n",
       "  0.8506249785423279,\n",
       "  0.8531249761581421,\n",
       "  0.8456249833106995,\n",
       "  0.8475000262260437,\n",
       "  0.8475000262260437,\n",
       "  0.8531249761581421,\n",
       "  0.8518750071525574,\n",
       "  0.8531249761581421,\n",
       "  0.8493750095367432,\n",
       "  0.8525000214576721,\n",
       "  0.8525000214576721,\n",
       "  0.8518750071525574,\n",
       "  0.8481249809265137,\n",
       "  0.84375,\n",
       "  0.846875011920929,\n",
       "  0.8487499952316284,\n",
       "  0.8475000262260437,\n",
       "  0.8456249833106995,\n",
       "  0.8506249785423279,\n",
       "  0.846875011920929,\n",
       "  0.8462499976158142,\n",
       "  0.8531249761581421,\n",
       "  0.8462499976158142,\n",
       "  0.8462499976158142,\n",
       "  0.8493750095367432,\n",
       "  0.8456249833106995,\n",
       "  0.8481249809265137,\n",
       "  0.84375,\n",
       "  0.8443750143051147,\n",
       "  0.8487499952316284,\n",
       "  0.8506249785423279,\n",
       "  0.8462499976158142,\n",
       "  0.8487499952316284,\n",
       "  0.8493750095367432,\n",
       "  0.8493750095367432,\n",
       "  0.8481249809265137,\n",
       "  0.84375,\n",
       "  0.856249988079071,\n",
       "  0.8500000238418579,\n",
       "  0.8506249785423279,\n",
       "  0.8575000166893005,\n",
       "  0.8487499952316284,\n",
       "  0.8462499976158142,\n",
       "  0.8475000262260437,\n",
       "  0.8500000238418579,\n",
       "  0.8487499952316284,\n",
       "  0.8500000238418579,\n",
       "  0.8550000190734863,\n",
       "  0.8525000214576721,\n",
       "  0.8506249785423279,\n",
       "  0.8481249809265137,\n",
       "  0.8493750095367432,\n",
       "  0.8550000190734863],\n",
       " 'val_loss': [0.48089683055877686,\n",
       "  0.4453529119491577,\n",
       "  0.4289247393608093,\n",
       "  0.4129277169704437,\n",
       "  0.3962346911430359,\n",
       "  0.3833097517490387,\n",
       "  0.37110674381256104,\n",
       "  0.36539825797080994,\n",
       "  0.35977378487586975,\n",
       "  0.3553823232650757,\n",
       "  0.35716012120246887,\n",
       "  0.3544338345527649,\n",
       "  0.3582841753959656,\n",
       "  0.35382288694381714,\n",
       "  0.3587651550769806,\n",
       "  0.35451453924179077,\n",
       "  0.35335537791252136,\n",
       "  0.3547697067260742,\n",
       "  0.3546879291534424,\n",
       "  0.3543035089969635,\n",
       "  0.3543016016483307,\n",
       "  0.3527825176715851,\n",
       "  0.3544218838214874,\n",
       "  0.3541678190231323,\n",
       "  0.35451388359069824,\n",
       "  0.3545117974281311,\n",
       "  0.3533277213573456,\n",
       "  0.35339629650115967,\n",
       "  0.35667097568511963,\n",
       "  0.3528672456741333,\n",
       "  0.35562047362327576,\n",
       "  0.35266783833503723,\n",
       "  0.353586345911026,\n",
       "  0.3521807789802551,\n",
       "  0.3523493707180023,\n",
       "  0.3549768328666687,\n",
       "  0.3530018627643585,\n",
       "  0.3521242141723633,\n",
       "  0.3539765179157257,\n",
       "  0.35214534401893616,\n",
       "  0.35163772106170654,\n",
       "  0.35420382022857666,\n",
       "  0.3522474765777588,\n",
       "  0.35085612535476685,\n",
       "  0.35222846269607544,\n",
       "  0.35119038820266724,\n",
       "  0.3524087071418762,\n",
       "  0.35229983925819397,\n",
       "  0.3510909378528595,\n",
       "  0.35324627161026,\n",
       "  0.35301074385643005,\n",
       "  0.353313684463501,\n",
       "  0.35272902250289917,\n",
       "  0.35302597284317017,\n",
       "  0.3506074845790863,\n",
       "  0.3510890603065491,\n",
       "  0.3505711853504181,\n",
       "  0.35213595628738403,\n",
       "  0.35123324394226074,\n",
       "  0.3513462543487549,\n",
       "  0.35534220933914185,\n",
       "  0.3526988923549652,\n",
       "  0.35135865211486816,\n",
       "  0.3524564504623413,\n",
       "  0.35354697704315186,\n",
       "  0.3518957793712616,\n",
       "  0.352081298828125,\n",
       "  0.3527507781982422,\n",
       "  0.3524756133556366,\n",
       "  0.3544127643108368,\n",
       "  0.3522248864173889,\n",
       "  0.35158297419548035,\n",
       "  0.35293930768966675,\n",
       "  0.35172930359840393,\n",
       "  0.35496053099632263,\n",
       "  0.3548811376094818,\n",
       "  0.352201372385025,\n",
       "  0.3533569276332855,\n",
       "  0.3533838391304016,\n",
       "  0.3520626425743103,\n",
       "  0.3537253439426422,\n",
       "  0.3559807538986206,\n",
       "  0.35326680541038513,\n",
       "  0.3593936264514923,\n",
       "  0.35071006417274475,\n",
       "  0.3526296317577362,\n",
       "  0.3527595102787018,\n",
       "  0.3522842526435852,\n",
       "  0.353943407535553,\n",
       "  0.3535650670528412,\n",
       "  0.3543965816497803,\n",
       "  0.35462769865989685,\n",
       "  0.3534969389438629,\n",
       "  0.35446688532829285,\n",
       "  0.35229477286338806,\n",
       "  0.35315367579460144,\n",
       "  0.35339468717575073,\n",
       "  0.35518649220466614,\n",
       "  0.35364028811454773,\n",
       "  0.3520463705062866]}"
      ]
     },
     "execution_count": 63,
     "metadata": {},
     "output_type": "execute_result"
    }
   ],
   "source": [
    "history.history"
   ]
  },
  {
   "cell_type": "code",
   "execution_count": 65,
   "metadata": {
    "execution": {
     "iopub.execute_input": "2025-01-09T08:56:24.403625Z",
     "iopub.status.busy": "2025-01-09T08:56:24.403159Z",
     "iopub.status.idle": "2025-01-09T08:56:24.675964Z",
     "shell.execute_reply": "2025-01-09T08:56:24.674604Z",
     "shell.execute_reply.started": "2025-01-09T08:56:24.403587Z"
    }
   },
   "outputs": [
    {
     "data": {
      "text/plain": [
       "[<matplotlib.lines.Line2D at 0x7ab09c8f1a20>]"
      ]
     },
     "execution_count": 65,
     "metadata": {},
     "output_type": "execute_result"
    },
    {
     "data": {
      "image/png": "[encoded data removed]",
      "text/plain": [
       "<Figure size 640x480 with 1 Axes>"
      ]
     },
     "metadata": {},
     "output_type": "display_data"
    }
   ],
   "source": [
    "plt.plot(history.history['loss'])\n",
    "plt.plot(history.history['val_loss'])\n"
   ]
  },
  {
   "cell_type": "code",
   "execution_count": 66,
   "metadata": {
    "execution": {
     "iopub.execute_input": "2025-01-09T08:57:26.382331Z",
     "iopub.status.busy": "2025-01-09T08:57:26.381963Z",
     "iopub.status.idle": "2025-01-09T08:57:26.631126Z",
     "shell.execute_reply": "2025-01-09T08:57:26.630013Z",
     "shell.execute_reply.started": "2025-01-09T08:57:26.382303Z"
    }
   },
   "outputs": [
    {
     "data": {
      "text/plain": [
       "[<matplotlib.lines.Line2D at 0x7ab09c0f6a40>]"
      ]
     },
     "execution_count": 66,
     "metadata": {},
     "output_type": "execute_result"
    },
    {
     "data": {
      "image/png": "[encoded data removed]",
      "text/plain": [
       "<Figure size 640x480 with 1 Axes>"
      ]
     },
     "metadata": {},
     "output_type": "display_data"
    }
   ],
   "source": [
    "plt.plot(history.history['accuracy'])\n",
    "plt.plot(history.history['val_accuracy'])"
   ]
  },
  {
   "cell_type": "code",
   "execution_count": null,
   "metadata": {},
   "outputs": [],
   "source": []
  },
  {
   "cell_type": "code",
   "execution_count": null,
   "metadata": {},
   "outputs": [],
   "source": []
  },
  {
   "cell_type": "code",
   "execution_count": null,
   "metadata": {},
   "outputs": [],
   "source": []
  },
  {
   "cell_type": "code",
   "execution_count": null,
   "metadata": {},
   "outputs": [],
   "source": []
  },
  {
   "cell_type": "code",
   "execution_count": null,
   "metadata": {},
   "outputs": [],
   "source": []
  },
  {
   "cell_type": "code",
   "execution_count": null,
   "metadata": {},
   "outputs": [],
   "source": []
  },
  {
   "cell_type": "code",
   "execution_count": null,
   "metadata": {},
   "outputs": [],
   "source": []
  },
  {
   "cell_type": "code",
   "execution_count": null,
   "metadata": {},
   "outputs": [],
   "source": []
  },
  {
   "cell_type": "code",
   "execution_count": null,
   "metadata": {},
   "outputs": [],
   "source": []
  },
  {
   "cell_type": "code",
   "execution_count": null,
   "metadata": {},
   "outputs": [],
   "source": []
  },
  {
   "cell_type": "code",
   "execution_count": null,
   "metadata": {},
   "outputs": [],
   "source": []
  },
  {
   "cell_type": "code",
   "execution_count": null,
   "metadata": {},
   "outputs": [],
   "source": []
  },
  {
   "cell_type": "code",
   "execution_count": null,
   "metadata": {},
   "outputs": [],
   "source": []
  },
  {
   "cell_type": "code",
   "execution_count": null,
   "metadata": {},
   "outputs": [],
   "source": []
  },
  {
   "cell_type": "code",
   "execution_count": null,
   "metadata": {},
   "outputs": [],
   "source": []
  }
 ],
 "metadata": {
  "kaggle": {
   "accelerator": "none",
   "dataSources": [
    {
     "datasetId": 869651,
     "sourceId": 1481789,
     "sourceType": "datasetVersion"
    }
   ],
   "dockerImageVersionId": 30822,
   "isGpuEnabled": false,
   "isInternetEnabled": true,
   "language": "python",
   "sourceType": "notebook"
  },
  "kernelspec": {
   "display_name": "Python 3 (ipykernel)",
   "language": "python",
   "name": "python3"
  },
  "language_info": {
   "codemirror_mode": {
    "name": "ipython",
    "version": 3
   },
   "file_extension": ".py",
   "mimetype": "text/x-python",
   "name": "python",
   "nbconvert_exporter": "python",
   "pygments_lexer": "ipython3",
   "version": "3.12.3"
  }
 },
 "nbformat": 4,
 "nbformat_minor": 4
}
